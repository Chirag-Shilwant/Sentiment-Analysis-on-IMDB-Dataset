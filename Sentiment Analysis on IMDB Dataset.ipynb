{
  "nbformat": 4,
  "nbformat_minor": 0,
  "metadata": {
    "colab": {
      "name": "Sentiment Analysis on Movie Review Data_ACASmai.ipynb",
      "provenance": [],
      "collapsed_sections": [
        "HYJeNhiN-Be1",
        "wHlTD3Ry7SIz",
        "muAY0VLv6Y2L",
        "pOL8seK153YS",
        "wEVF0Hvo5_W3",
        "60SUuGc-GOG6",
        "0NBtvD6unIvg",
        "ASgXD8M3pSJp",
        "ynjDzIKYDntl",
        "vSwpH572Xl9m",
        "p6xj_omvmqlV",
        "gCfRgD1GqsVs",
        "NT0KMqyYBfqQ",
        "D3zDuiNlGOAi",
        "jrcWgAQQCSJW",
        "rWclTKPwg5-7",
        "HZ5JU85PMM2q",
        "gSWV476LjREu"
      ],
      "include_colab_link": true
    },
    "kernelspec": {
      "name": "python3",
      "display_name": "Python 3"
    },
    "language_info": {
      "name": "python"
    }
  },
  "cells": [
    {
      "cell_type": "markdown",
      "metadata": {
        "id": "view-in-github",
        "colab_type": "text"
      },
      "source": [
        "<a href=\"https://colab.research.google.com/github/Chirag-Shilwant/Sentiment-Analysis-on-IMDB-Dataset/blob/main/Sentiment%20Analysis%20on%20IMDB%20Dataset.ipynb\" target=\"_parent\"><img src=\"https://colab.research.google.com/assets/colab-badge.svg\" alt=\"Open In Colab\"/></a>"
      ]
    },
    {
      "cell_type": "code",
      "metadata": {
        "id": "N8qJsl751kUb"
      },
      "source": [
        "import numpy as np\n",
        "import pandas as pd\n",
        "import seaborn as sns\n",
        "import matplotlib.pyplot as plt\n",
        "import nltk"
      ],
      "execution_count": null,
      "outputs": []
    },
    {
      "cell_type": "markdown",
      "metadata": {
        "id": "HYJeNhiN-Be1"
      },
      "source": [
        "# **Loading the Dataset**"
      ]
    },
    {
      "cell_type": "code",
      "metadata": {
        "id": "3hfwyU4P2O2T",
        "colab": {
          "base_uri": "https://localhost:8080/"
        },
        "outputId": "fc9463fc-a7ca-4c5f-b6ec-c48aecb5ff60"
      },
      "source": [
        "from google.colab import drive\n",
        "drive.mount('/content/drive')"
      ],
      "execution_count": null,
      "outputs": [
        {
          "output_type": "stream",
          "text": [
            "Mounted at /content/drive\n"
          ],
          "name": "stdout"
        }
      ]
    },
    {
      "cell_type": "code",
      "metadata": {
        "id": "7YNotLbL1x_5"
      },
      "source": [
        "dataset_imbd = pd.read_csv('/content/drive/MyDrive/IMDB Dataset.csv', na_values='?') \n",
        "dataset_imbd = dataset_imbd.reset_index(drop=True)"
      ],
      "execution_count": null,
      "outputs": []
    },
    {
      "cell_type": "code",
      "metadata": {
        "id": "qcVdqo6n10Et",
        "colab": {
          "base_uri": "https://localhost:8080/",
          "height": 166
        },
        "outputId": "67d133de-3626-4b0c-925f-abfd066093d6"
      },
      "source": [
        "dataset_imbd.describe()"
      ],
      "execution_count": null,
      "outputs": [
        {
          "output_type": "execute_result",
          "data": {
            "text/html": [
              "<div>\n",
              "<style scoped>\n",
              "    .dataframe tbody tr th:only-of-type {\n",
              "        vertical-align: middle;\n",
              "    }\n",
              "\n",
              "    .dataframe tbody tr th {\n",
              "        vertical-align: top;\n",
              "    }\n",
              "\n",
              "    .dataframe thead th {\n",
              "        text-align: right;\n",
              "    }\n",
              "</style>\n",
              "<table border=\"1\" class=\"dataframe\">\n",
              "  <thead>\n",
              "    <tr style=\"text-align: right;\">\n",
              "      <th></th>\n",
              "      <th>review</th>\n",
              "      <th>sentiment</th>\n",
              "    </tr>\n",
              "  </thead>\n",
              "  <tbody>\n",
              "    <tr>\n",
              "      <th>count</th>\n",
              "      <td>50000</td>\n",
              "      <td>50000</td>\n",
              "    </tr>\n",
              "    <tr>\n",
              "      <th>unique</th>\n",
              "      <td>49582</td>\n",
              "      <td>2</td>\n",
              "    </tr>\n",
              "    <tr>\n",
              "      <th>top</th>\n",
              "      <td>Loved today's show!!! It was a variety and not...</td>\n",
              "      <td>negative</td>\n",
              "    </tr>\n",
              "    <tr>\n",
              "      <th>freq</th>\n",
              "      <td>5</td>\n",
              "      <td>25000</td>\n",
              "    </tr>\n",
              "  </tbody>\n",
              "</table>\n",
              "</div>"
            ],
            "text/plain": [
              "                                                   review sentiment\n",
              "count                                               50000     50000\n",
              "unique                                              49582         2\n",
              "top     Loved today's show!!! It was a variety and not...  negative\n",
              "freq                                                    5     25000"
            ]
          },
          "metadata": {
            "tags": []
          },
          "execution_count": 4
        }
      ]
    },
    {
      "cell_type": "code",
      "metadata": {
        "id": "wEgk6Eh512ti",
        "colab": {
          "base_uri": "https://localhost:8080/"
        },
        "outputId": "db5216d5-dcc2-4193-a896-f114b60f55a4"
      },
      "source": [
        "dataset_imbd['sentiment'].value_counts()"
      ],
      "execution_count": null,
      "outputs": [
        {
          "output_type": "execute_result",
          "data": {
            "text/plain": [
              "negative    25000\n",
              "positive    25000\n",
              "Name: sentiment, dtype: int64"
            ]
          },
          "metadata": {
            "tags": []
          },
          "execution_count": 5
        }
      ]
    },
    {
      "cell_type": "code",
      "metadata": {
        "id": "XHUG7Tfm141G",
        "colab": {
          "base_uri": "https://localhost:8080/",
          "height": 360
        },
        "outputId": "cdf90b80-f0c2-48be-818e-27f5aa336b69"
      },
      "source": [
        "print(dataset_imbd.shape)\n",
        "dataset_imbd.head(10)"
      ],
      "execution_count": null,
      "outputs": [
        {
          "output_type": "stream",
          "text": [
            "(50000, 2)\n"
          ],
          "name": "stdout"
        },
        {
          "output_type": "execute_result",
          "data": {
            "text/html": [
              "<div>\n",
              "<style scoped>\n",
              "    .dataframe tbody tr th:only-of-type {\n",
              "        vertical-align: middle;\n",
              "    }\n",
              "\n",
              "    .dataframe tbody tr th {\n",
              "        vertical-align: top;\n",
              "    }\n",
              "\n",
              "    .dataframe thead th {\n",
              "        text-align: right;\n",
              "    }\n",
              "</style>\n",
              "<table border=\"1\" class=\"dataframe\">\n",
              "  <thead>\n",
              "    <tr style=\"text-align: right;\">\n",
              "      <th></th>\n",
              "      <th>review</th>\n",
              "      <th>sentiment</th>\n",
              "    </tr>\n",
              "  </thead>\n",
              "  <tbody>\n",
              "    <tr>\n",
              "      <th>0</th>\n",
              "      <td>One of the other reviewers has mentioned that ...</td>\n",
              "      <td>positive</td>\n",
              "    </tr>\n",
              "    <tr>\n",
              "      <th>1</th>\n",
              "      <td>A wonderful little production. &lt;br /&gt;&lt;br /&gt;The...</td>\n",
              "      <td>positive</td>\n",
              "    </tr>\n",
              "    <tr>\n",
              "      <th>2</th>\n",
              "      <td>I thought this was a wonderful way to spend ti...</td>\n",
              "      <td>positive</td>\n",
              "    </tr>\n",
              "    <tr>\n",
              "      <th>3</th>\n",
              "      <td>Basically there's a family where a little boy ...</td>\n",
              "      <td>negative</td>\n",
              "    </tr>\n",
              "    <tr>\n",
              "      <th>4</th>\n",
              "      <td>Petter Mattei's \"Love in the Time of Money\" is...</td>\n",
              "      <td>positive</td>\n",
              "    </tr>\n",
              "    <tr>\n",
              "      <th>5</th>\n",
              "      <td>Probably my all-time favorite movie, a story o...</td>\n",
              "      <td>positive</td>\n",
              "    </tr>\n",
              "    <tr>\n",
              "      <th>6</th>\n",
              "      <td>I sure would like to see a resurrection of a u...</td>\n",
              "      <td>positive</td>\n",
              "    </tr>\n",
              "    <tr>\n",
              "      <th>7</th>\n",
              "      <td>This show was an amazing, fresh &amp; innovative i...</td>\n",
              "      <td>negative</td>\n",
              "    </tr>\n",
              "    <tr>\n",
              "      <th>8</th>\n",
              "      <td>Encouraged by the positive comments about this...</td>\n",
              "      <td>negative</td>\n",
              "    </tr>\n",
              "    <tr>\n",
              "      <th>9</th>\n",
              "      <td>If you like original gut wrenching laughter yo...</td>\n",
              "      <td>positive</td>\n",
              "    </tr>\n",
              "  </tbody>\n",
              "</table>\n",
              "</div>"
            ],
            "text/plain": [
              "                                              review sentiment\n",
              "0  One of the other reviewers has mentioned that ...  positive\n",
              "1  A wonderful little production. <br /><br />The...  positive\n",
              "2  I thought this was a wonderful way to spend ti...  positive\n",
              "3  Basically there's a family where a little boy ...  negative\n",
              "4  Petter Mattei's \"Love in the Time of Money\" is...  positive\n",
              "5  Probably my all-time favorite movie, a story o...  positive\n",
              "6  I sure would like to see a resurrection of a u...  positive\n",
              "7  This show was an amazing, fresh & innovative i...  negative\n",
              "8  Encouraged by the positive comments about this...  negative\n",
              "9  If you like original gut wrenching laughter yo...  positive"
            ]
          },
          "metadata": {
            "tags": []
          },
          "execution_count": 6
        }
      ]
    },
    {
      "cell_type": "code",
      "metadata": {
        "id": "QO6-AnlP16Tb",
        "colab": {
          "base_uri": "https://localhost:8080/"
        },
        "outputId": "4a500c85-f22f-4d0a-d7d6-b4d348d11290"
      },
      "source": [
        "#train dataset\n",
        "X = dataset_imbd.review\n",
        "y = dataset_imbd.sentiment\n",
        "print(X.shape, y.shape)"
      ],
      "execution_count": null,
      "outputs": [
        {
          "output_type": "stream",
          "text": [
            "(50000,) (50000,)\n"
          ],
          "name": "stdout"
        }
      ]
    },
    {
      "cell_type": "code",
      "metadata": {
        "colab": {
          "base_uri": "https://localhost:8080/"
        },
        "id": "E9PoAnrfCFk0",
        "outputId": "4d661d6a-0bf2-4036-fe51-937edd8822d6"
      },
      "source": [
        "dataset_imbd.isnull().sum()"
      ],
      "execution_count": null,
      "outputs": [
        {
          "output_type": "execute_result",
          "data": {
            "text/plain": [
              "review       0\n",
              "sentiment    0\n",
              "dtype: int64"
            ]
          },
          "metadata": {
            "tags": []
          },
          "execution_count": 8
        }
      ]
    },
    {
      "cell_type": "markdown",
      "metadata": {
        "id": "__kVCmag7t6S"
      },
      "source": [
        "**Sample Review**"
      ]
    },
    {
      "cell_type": "code",
      "metadata": {
        "id": "OS36HLMB283A",
        "colab": {
          "base_uri": "https://localhost:8080/",
          "height": 120
        },
        "outputId": "71188283-479f-46e4-847a-1683e1a88ba2"
      },
      "source": [
        "X[0]"
      ],
      "execution_count": null,
      "outputs": [
        {
          "output_type": "execute_result",
          "data": {
            "application/vnd.google.colaboratory.intrinsic+json": {
              "type": "string"
            },
            "text/plain": [
              "\"One of the other reviewers has mentioned that after watching just 1 Oz episode you'll be hooked. They are right, as this is exactly what happened with me.<br /><br />The first thing that struck me about Oz was its brutality and unflinching scenes of violence, which set in right from the word GO. Trust me, this is not a show for the faint hearted or timid. This show pulls no punches with regards to drugs, sex or violence. Its is hardcore, in the classic use of the word.<br /><br />It is called OZ as that is the nickname given to the Oswald Maximum Security State Penitentary. It focuses mainly on Emerald City, an experimental section of the prison where all the cells have glass fronts and face inwards, so privacy is not high on the agenda. Em City is home to many..Aryans, Muslims, gangstas, Latinos, Christians, Italians, Irish and more....so scuffles, death stares, dodgy dealings and shady agreements are never far away.<br /><br />I would say the main appeal of the show is due to the fact that it goes where other shows wouldn't dare. Forget pretty pictures painted for mainstream audiences, forget charm, forget romance...OZ doesn't mess around. The first episode I ever saw struck me as so nasty it was surreal, I couldn't say I was ready for it, but as I watched more, I developed a taste for Oz, and got accustomed to the high levels of graphic violence. Not just violence, but injustice (crooked guards who'll be sold out for a nickel, inmates who'll kill on order and get away with it, well mannered, middle class inmates being turned into prison bitches due to their lack of street skills or prison experience) Watching Oz, you may become comfortable with what is uncomfortable viewing....thats if you can get in touch with your darker side.\""
            ]
          },
          "metadata": {
            "tags": []
          },
          "execution_count": 9
        }
      ]
    },
    {
      "cell_type": "code",
      "metadata": {
        "id": "qg1cVPN-6kNA"
      },
      "source": [
        "import re\n",
        "import os\n",
        "import sys\n",
        "import json\n",
        "import pandas as pd\n",
        "import numpy as np\n",
        "import spacy\n",
        "from spacy.lang.en.stop_words import STOP_WORDS as stopwords\n",
        "from bs4 import BeautifulSoup\n",
        "import unicodedata\n",
        "import en_core_web_sm\n",
        "\n",
        "from sklearn.feature_extraction.text import CountVectorizer\n",
        "\n",
        "def removeEmails(x):\n",
        "\treturn re.sub(r'([a-z0-9+._-]+@[a-z0-9+._-]+\\.[a-z0-9+_-]+)',\"\", x)\n",
        "\n",
        "def removeUrls(x):\n",
        "\treturn re.sub(r'(http|https|ftp|ssh)://([\\w_-]+(?:(?:\\.[\\w_-]+)+))([\\w.,@?^=%&:/~+#-]*[\\w@?^=%&/~+#-])?', '' , x)\n",
        "\n",
        "def removeRt(x):\n",
        "\treturn re.sub(r'\\brt\\b', '', x).strip()\n",
        "\n",
        "def removeSpecialChars(x):\n",
        "\tx = re.sub(r'[^\\w ]+', \"\", x)\n",
        "\tx = ' '.join(x.split())\n",
        "\treturn x\n",
        "\n",
        "def removeAccentedChars(x):\n",
        "\tx = unicodedata.normalize('NFKD', x).encode('ascii', 'ignore').decode('utf-8', 'ignore')\n",
        "\treturn x\n",
        "\n",
        "def removeStopwords(x):\n",
        "\treturn ' '.join([t for t in x.split() if t not in stopwords])\t\n",
        "\n",
        "def removeDupsChar(x):\n",
        "\tx = re.sub(\"(.)\\\\1{2,}\", \"\\\\1\", x)\n",
        "\treturn x\n",
        "\n",
        "def removeHTMLtags(x):\n",
        "  return BeautifulSoup(x, 'lxml').get_text().strip()"
      ],
      "execution_count": null,
      "outputs": []
    },
    {
      "cell_type": "code",
      "metadata": {
        "id": "Tr-6-81Dvmlp"
      },
      "source": [
        "def dataClean(x):\n",
        "    x = str(x).lower().replace('\\\\', '').replace('_', ' ')\n",
        "    x = removeHTMLtags(x)\n",
        "    x = removeStopwords(x)\n",
        "    x = removeEmails(x)\n",
        "    x = removeUrls(x)\n",
        "    x = removeRt(x)\n",
        "    x = removeDupsChar(x)\n",
        "    x = removeAccentedChars(x)\n",
        "    x = removeSpecialChars(x)\n",
        "    x = re.sub(\"(.)\\\\1{2,}\", \"\\\\1\", x)\n",
        "    return x"
      ],
      "execution_count": null,
      "outputs": []
    },
    {
      "cell_type": "code",
      "metadata": {
        "id": "Sr-SQ_6cw5Hi",
        "colab": {
          "base_uri": "https://localhost:8080/"
        },
        "outputId": "a0237b00-450b-412b-a46c-e4759157daad"
      },
      "source": [
        "print(dataClean(X[0]))"
      ],
      "execution_count": null,
      "outputs": [
        {
          "output_type": "stream",
          "text": [
            "reviewers mentioned watching 1 oz episode youll hooked right exactly happened methe thing struck oz brutality unflinching scenes violence set right word go trust me faint hearted timid pulls punches regards drugs sex violence hardcore classic use wordit called oz nickname given oswald maximum security state penitentary focuses mainly emerald city experimental section prison cells glass fronts face inwards privacy high agenda em city home manyaryans muslims gangstas latinos christians italians irish moreso scuffles death stares dodgy dealings shady agreements far awayi main appeal fact goes shows wouldnt dare forget pretty pictures painted mainstream audiences forget charm forget romanceoz doesnt mess around episode saw struck nasty surreal couldnt ready it watched more developed taste oz got accustomed high levels graphic violence violence injustice crooked guards wholl sold nickel inmates wholl kill order away it mannered middle class inmates turned prison bitches lack street skills prison experience watching oz comfortable uncomfortable viewingthats touch darker side\n"
          ],
          "name": "stdout"
        }
      ]
    },
    {
      "cell_type": "code",
      "metadata": {
        "id": "3IBGefDmyGjp"
      },
      "source": [
        "for i in range(len(X)):\n",
        "  X[i] = dataClean(X[i])"
      ],
      "execution_count": null,
      "outputs": []
    },
    {
      "cell_type": "code",
      "metadata": {
        "id": "mDgUJGFCz_9W",
        "colab": {
          "base_uri": "https://localhost:8080/"
        },
        "outputId": "316386d5-9b31-42fb-96bb-91e78c40fc8a"
      },
      "source": [
        "for sentiment in X[0:5]:\n",
        "  print(sentiment)\n",
        "  print(\"\\n\\n\")"
      ],
      "execution_count": null,
      "outputs": [
        {
          "output_type": "stream",
          "text": [
            "reviewers mentioned watching 1 oz episode youll hooked right exactly happened methe thing struck oz brutality unflinching scenes violence set right word go trust me faint hearted timid pulls punches regards drugs sex violence hardcore classic use wordit called oz nickname given oswald maximum security state penitentary focuses mainly emerald city experimental section prison cells glass fronts face inwards privacy high agenda em city home manyaryans muslims gangstas latinos christians italians irish moreso scuffles death stares dodgy dealings shady agreements far awayi main appeal fact goes shows wouldnt dare forget pretty pictures painted mainstream audiences forget charm forget romanceoz doesnt mess around episode saw struck nasty surreal couldnt ready it watched more developed taste oz got accustomed high levels graphic violence violence injustice crooked guards wholl sold nickel inmates wholl kill order away it mannered middle class inmates turned prison bitches lack street skills prison experience watching oz comfortable uncomfortable viewingthats touch darker side\n",
            "\n",
            "\n",
            "\n",
            "wonderful little production filming technique unassuming oldtimebbc fashion gives comforting discomforting sense realism entire piece actors extremely chosen michael sheen has got polari voices pat too truly seamless editing guided references williams diary entries worth watching terrificly written performed piece masterful production great masters comedy life realism comes home little things fantasy guard which use traditional dream techniques remains solid disappears plays knowledge senses particularly scenes concerning orton halliwell sets particularly flat halliwells murals decorating surface terribly done\n",
            "\n",
            "\n",
            "\n",
            "thought wonderful way spend time hot summer weekend sitting air conditioned theater watching lighthearted comedy plot simplistic dialogue witty characters likable even bread suspected serial killer disappointed realize match point 2 risk addiction thought proof woody allen fully control style grown lovethis id laughed woodys comedies years dare decade ive impressed scarlet johanson managed tone sexy image jumped right average spirited young womanthis crown jewel career wittier devil wears prada interesting superman great comedy friends\n",
            "\n",
            "\n",
            "\n",
            "basically theres family little boy jake thinks theres zombie closet parents fighting timethis movie slower soap opera suddenly jake decides rambo kill zombieok youre going film decide thriller drama drama movie watchable parents divorcing arguing like real life jake closet totally ruins film expected boogeyman similar movie instead watched drama meaningless thriller spots3 10 playing parents descent dialogs shots jake ignore them\n",
            "\n",
            "\n",
            "\n",
            "petter matteis love time money visually stunning film watch mr mattei offers vivid portrait human relations movie telling money power success people different situations encounter variation arthur schnitzlers play theme director transfers action present time new york different characters meet connect connected way person know previous point contact stylishly film sophisticated luxurious look taken people live world live habitatthe thing gets souls picture different stages loneliness inhabits big city exactly best place human relations find sincere fulfillment discerns case people encounterthe acting good mr matteis direction steve buscemi rosario dawson carol kane michael imperioli adrian grenier rest talented cast characters come alivewe wish mr mattei good luck await anxiously work\n",
            "\n",
            "\n",
            "\n"
          ],
          "name": "stdout"
        }
      ]
    },
    {
      "cell_type": "code",
      "metadata": {
        "id": "gnmVyvoOoAp7",
        "colab": {
          "base_uri": "https://localhost:8080/"
        },
        "outputId": "5e861ed4-0e69-42e8-f240-644141fe873f"
      },
      "source": [
        "X"
      ],
      "execution_count": null,
      "outputs": [
        {
          "output_type": "execute_result",
          "data": {
            "text/plain": [
              "0        reviewers mentioned watching 1 oz episode youl...\n",
              "1        wonderful little production filming technique ...\n",
              "2        thought wonderful way spend time hot summer we...\n",
              "3        basically theres family little boy jake thinks...\n",
              "4        petter matteis love time money visually stunni...\n",
              "                               ...                        \n",
              "49995    thought movie right good job wasnt creative or...\n",
              "49996    bad plot bad dialogue bad acting idiotic direc...\n",
              "49997    catholic taught parochial elementary schools n...\n",
              "49998    im going disagree previous comment maltin one ...\n",
              "49999    expects star trek movies high art fans expect ...\n",
              "Name: review, Length: 50000, dtype: object"
            ]
          },
          "metadata": {
            "tags": []
          },
          "execution_count": 15
        }
      ]
    },
    {
      "cell_type": "code",
      "metadata": {
        "id": "m_GNjQEPoCnY",
        "colab": {
          "base_uri": "https://localhost:8080/"
        },
        "outputId": "d79b3f4b-44ee-470b-d38c-cb708209d8c4"
      },
      "source": [
        "y"
      ],
      "execution_count": null,
      "outputs": [
        {
          "output_type": "execute_result",
          "data": {
            "text/plain": [
              "0        positive\n",
              "1        positive\n",
              "2        positive\n",
              "3        negative\n",
              "4        positive\n",
              "           ...   \n",
              "49995    positive\n",
              "49996    negative\n",
              "49997    negative\n",
              "49998    negative\n",
              "49999    negative\n",
              "Name: sentiment, Length: 50000, dtype: object"
            ]
          },
          "metadata": {
            "tags": []
          },
          "execution_count": 16
        }
      ]
    },
    {
      "cell_type": "code",
      "metadata": {
        "id": "VzALYZoG18Ay"
      },
      "source": [
        "#split the dataset \n",
        "from sklearn.model_selection import train_test_split\n",
        "X_train,X_test,Y_train,Y_test = train_test_split(X,y,test_size = 0.3,random_state = 45)"
      ],
      "execution_count": null,
      "outputs": []
    },
    {
      "cell_type": "code",
      "metadata": {
        "id": "TNqzvVRH19vS",
        "colab": {
          "base_uri": "https://localhost:8080/"
        },
        "outputId": "79082f6f-e389-4da9-84ed-c79a518db91a"
      },
      "source": [
        "print(X_train.shape)\n",
        "print(Y_train.shape)\n",
        "print(X_test.shape)\n",
        "print(Y_test.shape)"
      ],
      "execution_count": null,
      "outputs": [
        {
          "output_type": "stream",
          "text": [
            "(35000,)\n",
            "(35000,)\n",
            "(15000,)\n",
            "(15000,)\n"
          ],
          "name": "stdout"
        }
      ]
    },
    {
      "cell_type": "code",
      "metadata": {
        "id": "SBSB__ygju_n",
        "colab": {
          "base_uri": "https://localhost:8080/"
        },
        "outputId": "23471f92-c0d6-41e0-b18d-3af165dc7a34"
      },
      "source": [
        "X_train"
      ],
      "execution_count": null,
      "outputs": [
        {
          "output_type": "execute_result",
          "data": {
            "text/plain": [
              "9855     national lampoons dorm daze easily worst movie...\n",
              "24367    carrot tops chairman board att commercials liv...\n",
              "43552    like kinski great actor ive seen movie ive hea...\n",
              "49483    got copy dvd disc set perfect found overall ex...\n",
              "41722    movie rich action gore story line strong suppo...\n",
              "                               ...                        \n",
              "32469    definitely minority opinion one the hurt locke...\n",
              "16317    friend gave boxed set 12 amazing scifihorror m...\n",
              "12895    question immediately arises extremely idiosync...\n",
              "6012     like jane austin novels love pride prejudice s...\n",
              "6558     movie disaster disaster film great action scen...\n",
              "Name: review, Length: 35000, dtype: object"
            ]
          },
          "metadata": {
            "tags": []
          },
          "execution_count": 19
        }
      ]
    },
    {
      "cell_type": "code",
      "metadata": {
        "id": "8mHqojueCqpE"
      },
      "source": [
        "def get_sentiments(d, _d):\n",
        "    positive = (d==\"positive\").sum()\n",
        "    negative = (d==\"negative\").sum()\n",
        "    print('Sentiments in {}:\\n Positive: {}\\n Negative: {}'.format(_d, positive, negative))"
      ],
      "execution_count": null,
      "outputs": []
    },
    {
      "cell_type": "code",
      "metadata": {
        "colab": {
          "base_uri": "https://localhost:8080/"
        },
        "id": "Voqp-0NYCrfb",
        "outputId": "2ec46e64-46d4-4525-cfde-de9659fae2b2"
      },
      "source": [
        "get_sentiments(Y_train, 'Train data')\n",
        "get_sentiments(Y_test, 'Test data')"
      ],
      "execution_count": null,
      "outputs": [
        {
          "output_type": "stream",
          "text": [
            "Sentiments in Train data:\n",
            " Positive: 17494\n",
            " Negative: 17506\n",
            "Sentiments in Test data:\n",
            " Positive: 7506\n",
            " Negative: 7494\n"
          ],
          "name": "stdout"
        }
      ]
    },
    {
      "cell_type": "markdown",
      "metadata": {
        "id": "wHlTD3Ry7SIz"
      },
      "source": [
        "# **Visualize Dataset**"
      ]
    },
    {
      "cell_type": "code",
      "metadata": {
        "id": "Mfa9Jtcf7XBa"
      },
      "source": [
        "from wordcloud import WordCloud,STOPWORDS"
      ],
      "execution_count": null,
      "outputs": []
    },
    {
      "cell_type": "markdown",
      "metadata": {
        "id": "66xfBLOo8CBh"
      },
      "source": [
        "**WORD CLOUD OF POSITIVE WORDS**"
      ]
    },
    {
      "cell_type": "code",
      "metadata": {
        "colab": {
          "base_uri": "https://localhost:8080/",
          "height": 348
        },
        "id": "8Aq6UQbI75ld",
        "outputId": "33071f64-9eb8-4fd5-8850-9c1d993ab275"
      },
      "source": [
        "plt.figure(figsize=(10,10))\n",
        "positive_text=X[1]\n",
        "WC=WordCloud(width=2000,height=1000,max_words=500,min_font_size=5)\n",
        "positive_words=WC.generate(positive_text)\n",
        "plt.imshow(positive_words,interpolation='bilinear')\n",
        "plt.show"
      ],
      "execution_count": null,
      "outputs": [
        {
          "output_type": "execute_result",
          "data": {
            "text/plain": [
              "<function matplotlib.pyplot.show>"
            ]
          },
          "metadata": {
            "tags": []
          },
          "execution_count": 31
        },
        {
          "output_type": "display_data",
          "data": {
            "image/png": "[encoded data removed]",
            "text/plain": [
              "<Figure size 720x720 with 1 Axes>"
            ]
          },
          "metadata": {
            "tags": [],
            "needs_background": "light"
          }
        }
      ]
    },
    {
      "cell_type": "markdown",
      "metadata": {
        "id": "EWf7Egeq8xdm"
      },
      "source": [
        "**WORD CLOUD OF NEGATIVE WORDS**"
      ]
    },
    {
      "cell_type": "code",
      "metadata": {
        "colab": {
          "base_uri": "https://localhost:8080/",
          "height": 348
        },
        "id": "4gyRx3798w3w",
        "outputId": "6c61cb29-b85d-4c5c-c90f-fc6d5951ae73"
      },
      "source": [
        "plt.figure(figsize=(10,10))\n",
        "negative_text=X[49996]\n",
        "WC=WordCloud(width=2000,height=1000,max_words=500,min_font_size=5)\n",
        "negative_words=WC.generate(negative_text)\n",
        "plt.imshow(negative_words,interpolation='bilinear')\n",
        "plt.show"
      ],
      "execution_count": null,
      "outputs": [
        {
          "output_type": "execute_result",
          "data": {
            "text/plain": [
              "<function matplotlib.pyplot.show>"
            ]
          },
          "metadata": {
            "tags": []
          },
          "execution_count": 30
        },
        {
          "output_type": "display_data",
          "data": {
            "image/png": "[encoded data removed]",
            "text/plain": [
              "<Figure size 720x720 with 1 Axes>"
            ]
          },
          "metadata": {
            "tags": [],
            "needs_background": "light"
          }
        }
      ]
    },
    {
      "cell_type": "markdown",
      "metadata": {
        "id": "muAY0VLv6Y2L"
      },
      "source": [
        "# **Using Bag of Words**"
      ]
    },
    {
      "cell_type": "code",
      "metadata": {
        "id": "1lqaouSA3IA3"
      },
      "source": [
        "#bag of words\n",
        "from sklearn.feature_extraction.text import CountVectorizer\n",
        "vectorizer = CountVectorizer()\n",
        "\n",
        "X_train = vectorizer.fit_transform(X_train)\n",
        "X_test = vectorizer.transform(X_test)"
      ],
      "execution_count": null,
      "outputs": []
    },
    {
      "cell_type": "code",
      "metadata": {
        "id": "PiZ1RxwfjNH6",
        "colab": {
          "base_uri": "https://localhost:8080/"
        },
        "outputId": "40a9af7c-178e-4284-a0e6-1b619654af97"
      },
      "source": [
        "featureName = vectorizer.get_feature_names()\n",
        "print(\"Number of features - \", len(featureName))\n",
        "print(\"Last 30 features are\\n\", featureName[-30:])"
      ],
      "execution_count": null,
      "outputs": [
        {
          "output_type": "stream",
          "text": [
            "Number of features -  174914\n",
            "Last 30 features are\n",
            " ['zuluagain', 'zulunation', 'zungia', 'zuni', 'zuniga', 'zunigas', 'zuotian', 'zurer', 'zurers', 'zurich', 'zutaut', 'zuthe', 'zuwarriors', 'zuzuzz', 'zvezda', 'zvonimir', 'zvyagvatsev', 'zwart', 'zwartboek', 'zwarts', 'zweite', 'zwick', 'zwicks', 'zwrite', 'zx81', 'zy', 'zyada', 'zylbersteinand', 'zyuranger', 'zz']\n"
          ],
          "name": "stdout"
        }
      ]
    },
    {
      "cell_type": "code",
      "metadata": {
        "id": "uEuJF9iisyD2",
        "colab": {
          "base_uri": "https://localhost:8080/"
        },
        "outputId": "5b02ac2d-dc6c-4144-beef-14cd5ade4ee6"
      },
      "source": [
        "vectorizer.vocabulary_"
      ],
      "execution_count": null,
      "outputs": [
        {
          "output_type": "execute_result",
          "data": {
            "text/plain": [
              "{'national': 104673,\n",
              " 'lampoons': 86962,\n",
              " 'dorm': 45177,\n",
              " 'daze': 38960,\n",
              " 'easily': 47622,\n",
              " 'worst': 172257,\n",
              " 'movie': 102042,\n",
              " 'seen': 135904,\n",
              " 'ive': 81383,\n",
              " 'kazaam': 84193,\n",
              " 'reading': 125638,\n",
              " 'thinks': 154837,\n",
              " 'good': 65558,\n",
              " 'way': 168021,\n",
              " 'shape': 138138,\n",
              " 'form': 59990,\n",
              " 'idea': 76034,\n",
              " 'is': 80282,\n",
              " 'watch': 167659,\n",
              " 'stupidits': 148355,\n",
              " 'hard': 69596,\n",
              " 'wrong': 172731,\n",
              " 'off': 109125,\n",
              " 'plot': 118398,\n",
              " 'place': 117729,\n",
              " 'cant': 25059,\n",
              " 'follow': 59355,\n",
              " 'multiple': 103304,\n",
              " 'misunderstandings': 99912,\n",
              " 'all': 7184,\n",
              " 'acting': 4375,\n",
              " 'awful': 13562,\n",
              " 'least': 88211,\n",
              " 'thing': 154630,\n",
              " 'poorly': 119403,\n",
              " 'made': 93048,\n",
              " 'worked': 171824,\n",
              " 'kid': 84723,\n",
              " 'againit': 5951,\n",
              " 'sum': 149332,\n",
              " 'paragraph': 113891,\n",
              " 'two': 160689,\n",
              " 'bad': 14165,\n",
              " 'want': 167116,\n",
              " 'turn': 160251,\n",
              " 'television': 152734,\n",
              " 'usa': 163892,\n",
              " 'better': 17756,\n",
              " 'movies': 102471,\n",
              " 'this': 154930,\n",
              " 'friend': 61121,\n",
              " 'carrot': 25863,\n",
              " 'tops': 157757,\n",
              " 'chairman': 27258,\n",
              " 'board': 19765,\n",
              " 'att': 12552,\n",
              " 'commercials': 32321,\n",
              " 'living': 90666,\n",
              " 'proof': 122319,\n",
              " 'flyblown': 59163,\n",
              " 'fecal': 55994,\n",
              " 'matter': 95799,\n",
              " 'available': 13187,\n",
              " 'color': 31708,\n",
              " 'orange': 111087,\n",
              " 'freely': 60896,\n",
              " 'however': 74881,\n",
              " 'hbo': 70393,\n",
              " 'charges': 27929,\n",
              " 'garbage': 62807,\n",
              " 'bleh': 19186,\n",
              " 'saving': 133390,\n",
              " 'grace': 66290,\n",
              " 'cotb': 35109,\n",
              " 'surely': 150005,\n",
              " 'fills': 56922,\n",
              " 'suicide': 149214,\n",
              " 'hotlines': 74611,\n",
              " 'country': 35316,\n",
              " 'providing': 122647,\n",
              " 'employment': 49504,\n",
              " 'thousands': 155404,\n",
              " 'telephone': 152698,\n",
              " 'therapists': 154315,\n",
              " 'lost': 91587,\n",
              " 'jobs': 82643,\n",
              " 'recovered': 126489,\n",
              " 'memory': 97327,\n",
              " 'treatment': 159057,\n",
              " 'discredited': 43345,\n",
              " 'sadly': 132255,\n",
              " 'probably': 121652,\n",
              " 'contributes': 34129,\n",
              " 'sponsor': 144957,\n",
              " 'atts': 12763,\n",
              " 'line': 90052,\n",
              " 'increased': 77621,\n",
              " 'phone': 116796,\n",
              " 'traffic': 158412,\n",
              " 'devastated': 41452,\n",
              " 'viewers': 165612,\n",
              " 'visualize': 166160,\n",
              " 'hordes': 74138,\n",
              " 'traumatized': 158915,\n",
              " 'tv': 160386,\n",
              " 'hand': 69049,\n",
              " 'fully': 61675,\n",
              " 'loaded': 90761,\n",
              " '45': 2322,\n",
              " 'auto': 13116,\n",
              " 'dialing': 41760,\n",
              " 'lastminute': 87397,\n",
              " 'desperation': 41157,\n",
              " 'walking': 166913,\n",
              " 'plank': 117954,\n",
              " 'life': 89412,\n",
              " 'escape': 51362,\n",
              " 'specter': 144335,\n",
              " 'cotbs': 35110,\n",
              " 'orangehaired': 111089,\n",
              " 'monster': 100826,\n",
              " 'echoing': 47814,\n",
              " 'synapses': 151020,\n",
              " 'like': 89761,\n",
              " 'agony': 6263,\n",
              " 'searing': 135406,\n",
              " 'irreversible': 80246,\n",
              " 'meningeal': 97454,\n",
              " 'swelling': 150707,\n",
              " 'kinski': 85289,\n",
              " 'great': 66744,\n",
              " 'actor': 4671,\n",
              " 'heard': 70613,\n",
              " 'autobiographic': 13119,\n",
              " 'aspects': 12001,\n",
              " 'moviethe': 102681,\n",
              " 'film': 56925,\n",
              " 'symbols': 150964,\n",
              " 'piano': 116978,\n",
              " 'sinking': 140563,\n",
              " 'river': 130057,\n",
              " 'strange': 147572,\n",
              " 'shadowpictures': 137891,\n",
              " 'walls': 166990,\n",
              " 'narrator': 104559,\n",
              " 'says': 133538,\n",
              " 'abstract': 3776,\n",
              " 'sentences': 136894,\n",
              " 'sells': 136486,\n",
              " 'fortune': 60216,\n",
              " 'box': 21193,\n",
              " 'now': 107961,\n",
              " 'disturbing': 43992,\n",
              " 'wasnt': 167538,\n",
              " 'necessary': 105050,\n",
              " 'understands': 161990,\n",
              " 'about': 3585,\n",
              " 'shows': 139431,\n",
              " 'kinskis': 85292,\n",
              " 'character': 27620,\n",
              " 'treated': 159044,\n",
              " 'woman': 171360,\n",
              " 'kept': 84462,\n",
              " 'control': 34160,\n",
              " 'story': 147184,\n",
              " 'swine': 150760,\n",
              " 'need': 105119,\n",
              " 'naked': 104304,\n",
              " 'sick': 139764,\n",
              " 'trash': 158848,\n",
              " 'laugh': 87645,\n",
              " 'got': 66098,\n",
              " 'copy': 34597,\n",
              " 'dvd': 47180,\n",
              " 'disc': 43223,\n",
              " 'set': 137402,\n",
              " 'perfect': 115734,\n",
              " 'found': 60329,\n",
              " 'overall': 112387,\n",
              " 'experience': 53326,\n",
              " 'fun': 61716,\n",
              " 'waste': 167586,\n",
              " 'time': 156115,\n",
              " 'right': 129668,\n",
              " 'huge': 75064,\n",
              " 'fan': 54901,\n",
              " 'zombie': 174719,\n",
              " 'truly': 159815,\n",
              " 'think': 154779,\n",
              " 'fine': 57811,\n",
              " 'people': 115527,\n",
              " 'films': 57393,\n",
              " 'too': 157457,\n",
              " 'soft': 142760,\n",
              " 'spot': 145060,\n",
              " 'trying': 159918,\n",
              " 'odds': 109021,\n",
              " 'live': 90552,\n",
              " 'dream': 45953,\n",
              " 'again': 5883,\n",
              " 'it': 80677,\n",
              " 'awardwinning': 13422,\n",
              " 'collection': 31558,\n",
              " 'amazing': 8148,\n",
              " 'no': 106415,\n",
              " 'close': 30712,\n",
              " 'meager': 96546,\n",
              " 'budgets': 23001,\n",
              " 'recommended': 126381,\n",
              " 'me': 96526,\n",
              " 'always': 8028,\n",
              " 'entertained': 50577,\n",
              " 'answer': 9530,\n",
              " 'yes': 173609,\n",
              " 'series': 137172,\n",
              " 'raw': 125465,\n",
              " 'opens': 110821,\n",
              " 'kind': 85142,\n",
              " 'accident': 3978,\n",
              " 'nuclear': 108173,\n",
              " 'facility': 54322,\n",
              " 'melt': 97212,\n",
              " 'something': 143106,\n",
              " 'cut': 37567,\n",
              " 'years': 173418,\n",
              " 'later': 87473,\n",
              " 'new': 105633,\n",
              " 'housing': 74829,\n",
              " 'community': 32456,\n",
              " 'built': 23169,\n",
              " 'old': 109806,\n",
              " 'reactor': 125609,\n",
              " 'site': 140718,\n",
              " 'kids': 84813,\n",
              " 'making': 93699,\n",
              " 'video': 165441,\n",
              " 'fall': 54666,\n",
              " 'hole': 73419,\n",
              " 'find': 57789,\n",
              " 'trapped': 158829,\n",
              " 'levels': 89105,\n",
              " 'rescued': 128270,\n",
              " 'sealed': 135347,\n",
              " 'opening': 110800,\n",
              " 'start': 145984,\n",
              " 'lumbering': 92423,\n",
              " 'soon': 143424,\n",
              " 'town': 158221,\n",
              " 'overtaken': 112883,\n",
              " 'undead': 161752,\n",
              " 'zombies': 174747,\n",
              " 'cool': 34381,\n",
              " 'rot': 131206,\n",
              " 'makeup': 93667,\n",
              " 'cheapest': 28196,\n",
              " 'slap': 141272,\n",
              " 'whiteface': 169875,\n",
              " 'ever': 52057,\n",
              " 'culminates': 37234,\n",
              " 'showdown': 139320,\n",
              " 'final': 57727,\n",
              " 'survivors': 150264,\n",
              " 'area': 10996,\n",
              " 'heroes': 71747,\n",
              " 'going': 65324,\n",
              " 'reactors': 125610,\n",
              " 'lower': 92076,\n",
              " 'flesh': 58703,\n",
              " 'eating': 47719,\n",
              " 'seal': 135344,\n",
              " 'forever': 59819,\n",
              " 'pretty': 121245,\n",
              " 'cheesy': 28378,\n",
              " 'meant': 96655,\n",
              " 'be': 15910,\n",
              " 'still': 146694,\n",
              " 'moves': 102029,\n",
              " 'fast': 55453,\n",
              " 'buckets': 22890,\n",
              " 'gruesome': 67461,\n",
              " 'effects': 48198,\n",
              " 'tries': 159350,\n",
              " 'style': 148434,\n",
              " 'uneven': 162207,\n",
              " 'performances': 115885,\n",
              " 'shine': 138685,\n",
              " 'listen': 90367,\n",
              " 'commentary': 32243,\n",
              " 'track': 158345,\n",
              " 'went': 169178,\n",
              " 'watched': 167706,\n",
              " 'bit': 18643,\n",
              " 'information': 78262,\n",
              " 'trials': 159244,\n",
              " 'crew': 36376,\n",
              " 'cast': 26187,\n",
              " 'experienced': 53338,\n",
              " 'director': 42797,\n",
              " 'todd': 157024,\n",
              " 'sheets': 138391,\n",
              " 'proud': 122607,\n",
              " 'delusions': 40271,\n",
              " 'knows': 85756,\n",
              " 'its': 81129,\n",
              " 'trashy': 158896,\n",
              " 'respect': 128467,\n",
              " 'involved': 79967,\n",
              " 'also': 7868,\n",
              " 'sense': 136765,\n",
              " 'humor': 75300,\n",
              " 'humble': 75252,\n",
              " 'integrity': 79086,\n",
              " 'learn': 88172,\n",
              " 'field': 56705,\n",
              " 'scenes': 133977,\n",
              " 'bloodbath': 19412,\n",
              " 'well': 168724,\n",
              " 'felt': 56231,\n",
              " 'entertaining': 50600,\n",
              " 'for': 59619,\n",
              " 'interviews': 79623,\n",
              " 'footage': 59529,\n",
              " 'mixed': 99976,\n",
              " 'news': 105710,\n",
              " 'stories': 147123,\n",
              " 'major': 93594,\n",
              " 'places': 117800,\n",
              " 'cnn': 31005,\n",
              " 'fox': 60431,\n",
              " 'mtv': 102968,\n",
              " 'little': 90503,\n",
              " 'rough': 131284,\n",
              " 'edges': 47942,\n",
              " 'laughing': 87709,\n",
              " 'enjoying': 50299,\n",
              " 'ride': 129499,\n",
              " 'dv': 47178,\n",
              " 'shot': 139146,\n",
              " 'dull': 46770,\n",
              " 'newer': 105663,\n",
              " 'technically': 152421,\n",
              " 'superior': 149697,\n",
              " 'arent': 11063,\n",
              " 'solid': 142927,\n",
              " 'flawed': 58610,\n",
              " 'release': 127354,\n",
              " 'plenty': 118352,\n",
              " 'extras': 53827,\n",
              " 'tons': 157442,\n",
              " 'gore': 65925,\n",
              " 'splatter': 144723,\n",
              " 'breaking': 21776,\n",
              " 'grand': 66432,\n",
              " 'rules': 131703,\n",
              " 'recommendation': 126375,\n",
              " 'award': 13392,\n",
              " 'winning': 170782,\n",
              " 'art': 11553,\n",
              " 'folks': 59321,\n",
              " 'seems': 135890,\n",
              " 'zero': 174541,\n",
              " 'budget': 22963,\n",
              " 'splattery': 144738,\n",
              " 'horror': 74272,\n",
              " 'end': 49660,\n",
              " 'succeeded': 148879,\n",
              " 'spades': 144006,\n",
              " 'rich': 129393,\n",
              " 'action': 4501,\n",
              " 'strong': 147966,\n",
              " 'support': 149887,\n",
              " 'sequences': 137062,\n",
              " 'english': 50156,\n",
              " 'version': 165112,\n",
              " 'needs': 105146,\n",
              " 'tad': 151278,\n",
              " 'help': 71207,\n",
              " 'dubbing': 46556,\n",
              " 'department': 40645,\n",
              " 'enjoyable': 50242,\n",
              " 'ranks': 125029,\n",
              " 'personal': 116213,\n",
              " 'favorites': 55763,\n",
              " 'boiled': 20050,\n",
              " 'rarely': 125171,\n",
              " 'short': 139044,\n",
              " 'late': 87422,\n",
              " 'night': 106053,\n",
              " 'publicised': 123052,\n",
              " 'know': 85677,\n",
              " 'worth': 172295,\n",
              " 'while': 169723,\n",
              " 'room': 130972,\n",
              " 'extra': 53791,\n",
              " 'feature': 55950,\n",
              " 'hitcher': 73097,\n",
              " 'gave': 63147,\n",
              " 'wonderful': 171503,\n",
              " 'opportunity': 110970,\n",
              " 'witness': 171145,\n",
              " 'high': 72169,\n",
              " 'quality': 123813,\n",
              " 'rutger': 131946,\n",
              " 'hauer': 70150,\n",
              " 'excellent': 52631,\n",
              " 'formartistically': 60006,\n",
              " 'black': 18804,\n",
              " 'white': 169856,\n",
              " 'explores': 53558,\n",
              " 'mans': 94441,\n",
              " 'obsession': 108733,\n",
              " 'passed': 114504,\n",
              " 'early': 47488,\n",
              " 'stages': 145526,\n",
              " 'adulthood': 5348,\n",
              " 'expressed': 53628,\n",
              " 'documentary': 44332,\n",
              " 'interview': 79609,\n",
              " 'dialogue': 41798,\n",
              " 'poetic': 118732,\n",
              " 'typical': 160911,\n",
              " 'man': 93992,\n",
              " 'expressing': 53630,\n",
              " 'feelings': 56074,\n",
              " 'juxtaposed': 83598,\n",
              " 'ramblings': 124839,\n",
              " 'occasional': 108822,\n",
              " 'deficiencies': 39869,\n",
              " 'fluency': 59099,\n",
              " 'adds': 5073,\n",
              " 'realism': 125715,\n",
              " 'depth': 40785,\n",
              " 'hauers': 70153,\n",
              " 'performance': 115826,\n",
              " 'eccentric': 47785,\n",
              " 'himthe': 72759,\n",
              " 'music': 103677,\n",
              " 'harry': 69894,\n",
              " 'hears': 70643,\n",
              " 'constantly': 33773,\n",
              " 'background': 13996,\n",
              " 'enhances': 50223,\n",
              " 'touching': 158054,\n",
              " 'atmosphere': 12450,\n",
              " 'intensifies': 79186,\n",
              " 'sadness': 132266,\n",
              " 'hauerhauer': 70152,\n",
              " 'proves': 122632,\n",
              " 'psychotic': 122991,\n",
              " 'hollywood': 73520,\n",
              " 'guy': 68082,\n",
              " 'role': 130580,\n",
              " 'perfectly': 115778,\n",
              " 'displays': 43730,\n",
              " 'sensitive': 136857,\n",
              " 'side': 139824,\n",
              " 'mattijn': 95861,\n",
              " 'hartemink': 69914,\n",
              " 'effective': 48160,\n",
              " 'flashback': 58467,\n",
              " 'young': 173945,\n",
              " 'silent': 140103,\n",
              " 'affected': 5610,\n",
              " 'disappointment': 43118,\n",
              " 'goes': 65258,\n",
              " 'awaythe': 13506,\n",
              " 'ending': 49785,\n",
              " 'prophetic': 122394,\n",
              " 'leaves': 88292,\n",
              " 'reflective': 126856,\n",
              " 'mood': 101020,\n",
              " 'longer': 91181,\n",
              " 'length': 88689,\n",
              " 'effort': 48291,\n",
              " 'reminds': 127682,\n",
              " 'lot': 91621,\n",
              " 'antidrug': 9752,\n",
              " '50s': 2474,\n",
              " '60s': 2652,\n",
              " 'fact': 54332,\n",
              " 'obviously': 108796,\n",
              " 'social': 142598,\n",
              " 'evil': 52375,\n",
              " 'warning': 167320,\n",
              " 'tom': 157274,\n",
              " 'hanks': 69303,\n",
              " 'buddies': 22932,\n",
              " 'playing': 118169,\n",
              " 'dice': 41939,\n",
              " 'lots': 91655,\n",
              " 'candles': 24928,\n",
              " 'swept': 150716,\n",
              " 'away': 13432,\n",
              " 'montage': 100895,\n",
              " 'showing': 139369,\n",
              " 'falling': 54686,\n",
              " 'lady': 86685,\n",
              " 'group': 67357,\n",
              " 'funny': 61870,\n",
              " 'misguided': 99590,\n",
              " 'wonder': 171494,\n",
              " 'poor': 119382,\n",
              " 'dd': 38995,\n",
              " 'stuff': 148198,\n",
              " 'destroyed': 41241,\n",
              " 'told': 157209,\n",
              " 'use': 163944,\n",
              " 'imagination': 76614,\n",
              " 'road': 130137,\n",
              " 'destruction': 41255,\n",
              " 'basically': 15498,\n",
              " 'school': 134340,\n",
              " 'special': 144217,\n",
              " 'although': 7961,\n",
              " 'talent': 151499,\n",
              " 'relationship': 127289,\n",
              " 'talks': 151633,\n",
              " 'having': 70260,\n",
              " 'psychological': 122945,\n",
              " 'focus': 59226,\n",
              " 'adolescents': 5261,\n",
              " 'starting': 146023,\n",
              " 'adultism': 5351,\n",
              " 'serious': 137260,\n",
              " 'apparently': 10490,\n",
              " 'requires': 128228,\n",
              " 'buckle': 22896,\n",
              " 'things': 154690,\n",
              " 'does': 44421,\n",
              " 'despite': 41173,\n",
              " 'vote': 166512,\n",
              " 'watching': 167740,\n",
              " 'unique': 162611,\n",
              " 'genre': 63599,\n",
              " 'scare': 133699,\n",
              " 'personally': 116239,\n",
              " 'quick': 124123,\n",
              " 'finally': 57758,\n",
              " 'actually': 4911,\n",
              " 'render': 127778,\n",
              " 'storyline': 147289,\n",
              " 'null': 108258,\n",
              " 'void': 166372,\n",
              " 'essentially': 51517,\n",
              " 'gigantic': 64256,\n",
              " 'holeaside': 73421,\n",
              " 'that': 153540,\n",
              " 'motivations': 101807,\n",
              " 'nonexistent': 106882,\n",
              " 'unbelievable': 161505,\n",
              " 'single': 140492,\n",
              " 'hanging': 69268,\n",
              " 'hat': 70059,\n",
              " 'on': 110028,\n",
              " 'interesting': 79318,\n",
              " 'member': 97240,\n",
              " 'who': 169976,\n",
              " 'potential': 120143,\n",
              " 'dark': 38411,\n",
              " 'horse': 74407,\n",
              " 'protagonist': 122525,\n",
              " 'snuffed': 142459,\n",
              " 'halfway': 68780,\n",
              " 'proceedingswhat': 121761,\n",
              " 'serve': 137350,\n",
              " 'example': 52538,\n",
              " 'colortiming': 31748,\n",
              " 'looked': 91326,\n",
              " 'account': 4081,\n",
              " 'considerationsunfortunately': 33685,\n",
              " 'plays': 118199,\n",
              " 'hands': 69167,\n",
              " 'westerns': 169323,\n",
              " 'most': 101622,\n",
              " 'notably': 107488,\n",
              " 'ugly': 161109,\n",
              " 'threw': 155532,\n",
              " 'bunch': 23374,\n",
              " 'elements': 48807,\n",
              " 'haphazardly': 69367,\n",
              " 'you': 173860,\n",
              " 'characters': 27749,\n",
              " 'fit': 58252,\n",
              " 'here': 71483,\n",
              " 'cares': 25532,\n",
              " 'maybe': 95998,\n",
              " 'view': 165577,\n",
              " 'burgeoning': 23489,\n",
              " 'cinematographers': 29688,\n",
              " 'colorists': 31733,\n",
              " 'firstyear': 58166,\n",
              " 'filmschoolers': 57429,\n",
              " 'otherwise': 111754,\n",
              " 'mustmiss': 103872,\n",
              " 'army': 11331,\n",
              " 'veteran': 165230,\n",
              " 'deeply': 39732,\n",
              " 'offended': 109176,\n",
              " 'opinion': 110893,\n",
              " 'disgrace': 43446,\n",
              " 'fought': 60313,\n",
              " 'vietnam': 165565,\n",
              " 'war': 167160,\n",
              " 'real': 125685,\n",
              " 'sf': 137803,\n",
              " 'soldiers': 142879,\n",
              " 'knew': 85585,\n",
              " 'crap': 35832,\n",
              " 'understatement': 161999,\n",
              " 'presented': 121060,\n",
              " 'satire': 133205,\n",
              " 'cartoon': 25937,\n",
              " 'was': 167444,\n",
              " 'received': 126227,\n",
              " 'taken': 151418,\n",
              " 'seriously': 137267,\n",
              " 'especially': 51462,\n",
              " 'overseas': 112809,\n",
              " 'silly': 140151,\n",
              " 'sounds': 143748,\n",
              " 'europe': 51849,\n",
              " '80s': 2985,\n",
              " 'judge': 83216,\n",
              " 'americans': 8372,\n",
              " 'general': 63425,\n",
              " 'unrealistic': 163045,\n",
              " 'hmm': 73211,\n",
              " 'lets': 89022,\n",
              " 'see': 135775,\n",
              " 'monosyllabic': 100791,\n",
              " 'musclebound': 103640,\n",
              " 'cretin': 36371,\n",
              " 'pulled': 123182,\n",
              " 'prison': 121537,\n",
              " 'work': 171790,\n",
              " 'gang': 62696,\n",
              " 'secret': 135641,\n",
              " 'mission': 99767,\n",
              " 'se': 135300,\n",
              " 'asia': 11897,\n",
              " 'free': 60841,\n",
              " 'american': 8330,\n",
              " 'pows': 120381,\n",
              " 'running': 131798,\n",
              " 'battle': 15736,\n",
              " 'kills': 85077,\n",
              " '500': 2449,\n",
              " 'enemy': 50043,\n",
              " 'm60': 92752,\n",
              " 'machine': 92889,\n",
              " 'gun': 67860,\n",
              " 'runs': 131819,\n",
              " 'ammo': 8475,\n",
              " 'overheats': 112604,\n",
              " 'misses': 99734,\n",
              " '32lb': 2053,\n",
              " 'held': 71072,\n",
              " 'arm': 11241,\n",
              " 'im': 76567,\n",
              " 'getting': 64003,\n",
              " 'headache': 70419,\n",
              " '210': 1670,\n",
              " 'slightly': 141580,\n",
              " 'rambo': 124841,\n",
              " 'quiet': 124185,\n",
              " 'simple': 140296,\n",
              " 'writer': 172589,\n",
              " 'write': 172580,\n",
              " 'coming': 32163,\n",
              " 'home': 73652,\n",
              " 'started': 145993,\n",
              " 'instead': 78912,\n",
              " 'gets': 63983,\n",
              " 'friendship': 61179,\n",
              " 'weird': 168627,\n",
              " 'older': 109826,\n",
              " 'externally': 53764,\n",
              " 'represents': 128106,\n",
              " 'internal': 79470,\n",
              " 'state': 146088,\n",
              " 'museum': 103661,\n",
              " 'unfinished': 162287,\n",
              " 'ideas': 76100,\n",
              " 'outdated': 111936,\n",
              " 'equipment': 51110,\n",
              " 'useless': 163973,\n",
              " 'peoplethere': 115616,\n",
              " 'extraordinary': 53815,\n",
              " 'circumstances': 29807,\n",
              " 'big': 18204,\n",
              " 'movements': 102017,\n",
              " 'changes': 27466,\n",
              " 'stuck': 148091,\n",
              " 'lives': 90599,\n",
              " 'developing': 41479,\n",
              " 'much': 102987,\n",
              " 'principal': 121483,\n",
              " 'personages': 116210,\n",
              " 'transform': 158670,\n",
              " 'stop': 147029,\n",
              " 'leaving': 88305,\n",
              " 'dreams': 46002,\n",
              " 'achieve': 4171,\n",
              " 'change': 27435,\n",
              " 'desired': 41081,\n",
              " 'longawaited': 91160,\n",
              " 'directionon': 42771,\n",
              " 'filmmaking': 57273,\n",
              " 'weakness': 168297,\n",
              " 'considered': 33687,\n",
              " 'description': 40940,\n",
              " 'inner': 78539,\n",
              " 'world': 172004,\n",
              " 'insights': 78762,\n",
              " 'narrative': 104541,\n",
              " 'thoughts': 155361,\n",
              " 'events': 52027,\n",
              " 'guess': 67610,\n",
              " 'true': 159755,\n",
              " 'hidden': 72116,\n",
              " 'them': 153892,\n",
              " 'makes': 93657,\n",
              " 'mind': 98888,\n",
              " 'figure': 56850,\n",
              " 'out': 111867,\n",
              " 'understand': 161958,\n",
              " 'impressions': 77142,\n",
              " 'underneath': 161895,\n",
              " 'actors': 4724,\n",
              " 'definitely': 39909,\n",
              " 'hold': 73396,\n",
              " 'states': 146125,\n",
              " 'proper': 122360,\n",
              " 'completely': 32702,\n",
              " 'turns': 160290,\n",
              " 'puts': 123614,\n",
              " 'choiceswhats': 29064,\n",
              " 'important': 77029,\n",
              " 'flat': 58520,\n",
              " 'pondering': 119267,\n",
              " 'afterwards': 5859,\n",
              " 'achievements': 4193,\n",
              " 'caught': 26596,\n",
              " 'routine': 131370,\n",
              " 'pleasures': 118324,\n",
              " '100': 72,\n",
              " 'dreaming': 45986,\n",
              " 'wed': 168438,\n",
              " 'feed': 56037,\n",
              " 'tales': 151561,\n",
              " 'ill': 76426,\n",
              " 'day': 38787,\n",
              " 'moving': 102779,\n",
              " 'finger': 57858,\n",
              " 'happen': 69375,\n",
              " 'am': 8069,\n",
              " 'easier': 47617,\n",
              " 'habits': 68301,\n",
              " 'thats': 153676,\n",
              " 'impression': 77127,\n",
              " 'left': 88419,\n",
              " 'timely': 156308,\n",
              " 'appreciation': 10689,\n",
              " 'farfromfamous': 55244,\n",
              " 'recommend': 126368,\n",
              " 'likes': 89844,\n",
              " 'heart': 70651,\n",
              " 'actions': 4589,\n",
              " 'stay': 146227,\n",
              " 'chomps': 29105,\n",
              " 'number': 108275,\n",
              " '70s': 2795,\n",
              " 'disney': 43618,\n",
              " 'family': 54800,\n",
              " 'comedysthe': 32025,\n",
              " 'cat': 26348,\n",
              " 'outer': 111967,\n",
              " 'space': 143922,\n",
              " 'unidentified': 162490,\n",
              " 'flying': 59172,\n",
              " 'oddball': 108988,\n",
              " 'instance': 78888,\n",
              " 'utterly': 164162,\n",
              " 'devoid': 41613,\n",
              " 'creative': 36130,\n",
              " 'beating': 16087,\n",
              " 'cliches': 30491,\n",
              " 'death': 39186,\n",
              " 'vaguely': 164279,\n",
              " 'mindless': 98952,\n",
              " 'sort': 143582,\n",
              " 'wont': 171579,\n",
              " 'win': 170592,\n",
              " 'awards': 13408,\n",
              " 'fx': 62212,\n",
              " 'inoffensive': 78618,\n",
              " 'ness': 105491,\n",
              " 'bland': 19029,\n",
              " 'predicatability': 120671,\n",
              " 'vague': 164277,\n",
              " 'entertainment': 50666,\n",
              " 'had': 68360,\n",
              " 'robot': 130295,\n",
              " 'dog': 44495,\n",
              " 'security': 135725,\n",
              " 'system': 151132,\n",
              " 'holes': 73430,\n",
              " 'colander': 31433,\n",
              " 'incredibly': 77652,\n",
              " 'repetative': 127986,\n",
              " 'disco': 43267,\n",
              " 'soundtrack': 143769,\n",
              " 'stick': 146619,\n",
              " 'head': 70416,\n",
              " 'beware': 17954,\n",
              " 'saw': 133417,\n",
              " 'hamlet': 68971,\n",
              " 'ago': 6220,\n",
              " 'since': 140387,\n",
              " 'remains': 127543,\n",
              " 'truest': 159790,\n",
              " 'depiction': 40690,\n",
              " 'derek': 40838,\n",
              " 'jacobi': 81561,\n",
              " 'shakespeare': 137956,\n",
              " 'simply': 140341,\n",
              " 'gibberish': 64206,\n",
              " 'tried': 159338,\n",
              " 'elizabethan': 48938,\n",
              " 'jacobis': 81562,\n",
              " 'times': 156377,\n",
              " 'knowledge': 85720,\n",
              " 'literature': 90460,\n",
              " 'promptly': 122291,\n",
              " 'checked': 28259,\n",
              " 'play': 118087,\n",
              " 'library': 89314,\n",
              " 'read': 125613,\n",
              " 'poured': 120247,\n",
              " 'accompanying': 4040,\n",
              " 'recording': 126460,\n",
              " 'rendition': 127790,\n",
              " 'attracted': 12731,\n",
              " 'deeper': 39724,\n",
              " 'yet': 173652,\n",
              " 'avail': 13185,\n",
              " 'rating': 125285,\n",
              " 'why': 170121,\n",
              " 'then': 154166,\n",
              " 'released': 127359,\n",
              " 'id': 76026,\n",
              " 'invest': 79882,\n",
              " 'in': 77264,\n",
              " 'appears': 10560,\n",
              " 'critics': 36639,\n",
              " 'woody': 171665,\n",
              " 'allen': 7286,\n",
              " 'drama': 45746,\n",
              " 'unpalatable': 162925,\n",
              " 'reason': 125984,\n",
              " 'unbearably': 161492,\n",
              " 'wooden': 171601,\n",
              " 'pretentious': 121221,\n",
              " 'imitations': 76745,\n",
              " 'bergman': 17426,\n",
              " 'ourselves': 111844,\n",
              " 'supportive': 149900,\n",
              " 'allens': 7299,\n",
              " 'pretensions': 121212,\n",
              " 'whining': 169782,\n",
              " 'accusations': 4133,\n",
              " 'contrary': 34107,\n",
              " 'notwithstanding': 107859,\n",
              " 'dont': 44962,\n",
              " 'generally': 63444,\n",
              " 'applauded': 10596,\n",
              " 'originality': 111338,\n",
              " 'imitating': 76742,\n",
              " 'contemporaneous': 33903,\n",
              " 'brian': 21990,\n",
              " 'depalma': 40626,\n",
              " 'excoriated': 52843,\n",
              " 'ripping': 129919,\n",
              " 'hitchcock': 73070,\n",
              " 'suspensehorror': 150351,\n",
              " 'robin': 130269,\n",
              " 'woods': 171633,\n",
              " 'cultural': 37287,\n",
              " 'snobbery': 142348,\n",
              " 'agree': 6297,\n",
              " 'of': 109094,\n",
              " 'extravagant': 53859,\n",
              " 'props': 122445,\n",
              " 'car': 25299,\n",
              " 'chases': 28073,\n",
              " 'clever': 30445,\n",
              " 'oneliners': 110314,\n",
              " 'dealing': 39129,\n",
              " 'peoplewilliam': 115633,\n",
              " 'macy': 93007,\n",
              " 'unlikely': 162756,\n",
              " 'hitman': 73144,\n",
              " 'works': 171928,\n",
              " 'father': 55579,\n",
              " 'donald': 44824,\n",
              " 'sutherland': 150418,\n",
              " 'dutiful': 47144,\n",
              " 'son': 143247,\n",
              " 'domineering': 44781,\n",
              " 'wants': 167145,\n",
              " 'business': 23716,\n",
              " 'let': 88988,\n",
              " 'him': 72515,\n",
              " 'loves': 91958,\n",
              " 'played': 118116,\n",
              " 'beautifully': 16168,\n",
              " 'david': 38710,\n",
              " 'dorfman': 45149,\n",
              " 'the': 153731,\n",
              " 'ring': 129820,\n",
              " 'starts': 146044,\n",
              " 'love': 91796,\n",
              " 'neve': 105588,\n",
              " 'campbell': 24758,\n",
              " 'girl': 64469,\n",
              " 'meets': 96944,\n",
              " 'waiting': 166807,\n",
              " 'psychiatrists': 122901,\n",
              " 'officeits': 109265,\n",
              " 'juxtaposition': 83601,\n",
              " 'follows': 59404,\n",
              " 'reluctant': 127524,\n",
              " 'killer': 84978,\n",
              " 'balances': 14601,\n",
              " 'boy': 21231,\n",
              " 'youd': 173891,\n",
              " 'expect': 53213,\n",
              " 'william': 170482,\n",
              " 'theres': 154429,\n",
              " 'tooexcellent': 157491,\n",
              " 'job': 82590,\n",
              " 'around': 11395,\n",
              " 'nice': 105854,\n",
              " 'small': 141884,\n",
              " 'drunken': 46469,\n",
              " 'millionaire': 98791,\n",
              " 'playboy': 118104,\n",
              " 'arthur': 11603,\n",
              " 'bach': 13897,\n",
              " 'dudley': 46673,\n",
              " 'moore': 101108,\n",
              " 'grown': 67415,\n",
              " 'childhood': 28731,\n",
              " 'turned': 160259,\n",
              " 'disappointments': 43133,\n",
              " 'followed': 59364,\n",
              " 'including': 77496,\n",
              " 'pale': 113522,\n",
              " 'sequel': 136995,\n",
              " 'doesnt': 44449,\n",
              " 'diminish': 42513,\n",
              " 'charm': 27990,\n",
              " 'appeal': 10506,\n",
              " 'picture': 117066,\n",
              " 'cleverly': 30457,\n",
              " 'written': 172708,\n",
              " 'directed': 42704,\n",
              " 'moores': 101117,\n",
              " 'drunk': 46462,\n",
              " 'forced': 59660,\n",
              " 'parts': 114375,\n",
              " 'wobbly': 171273,\n",
              " 'performs': 115970,\n",
              " 'relish': 127501,\n",
              " 'difficult': 42312,\n",
              " 'resist': 128374,\n",
              " 'gives': 64701,\n",
              " 'oscarwinner': 111525,\n",
              " 'john': 82756,\n",
              " 'gielgud': 64236,\n",
              " 'sly': 141865,\n",
              " 'dryly': 46510,\n",
              " 'amusing': 8607,\n",
              " 'arthurs': 11607,\n",
              " 'valet': 164355,\n",
              " 'hobson': 73283,\n",
              " 'delicious': 40130,\n",
              " 'miraculous': 99377,\n",
              " 'rapport': 125141,\n",
              " 'liza': 90700,\n",
              " 'minnelli': 99214,\n",
              " 'as': 11766,\n",
              " 'bluecollar': 19618,\n",
              " 'loveinterest': 91872,\n",
              " 'sassy': 133150,\n",
              " 'lowkey': 92118,\n",
              " 'brash': 21611,\n",
              " 'deft': 39957,\n",
              " 'lively': 90584,\n",
              " 'shook': 138961,\n",
              " ...}"
            ]
          },
          "metadata": {
            "tags": []
          },
          "execution_count": 44
        }
      ]
    },
    {
      "cell_type": "markdown",
      "metadata": {
        "id": "pOL8seK153YS"
      },
      "source": [
        "## **1. Multinomial Naive Baise**"
      ]
    },
    {
      "cell_type": "code",
      "metadata": {
        "colab": {
          "base_uri": "https://localhost:8080/"
        },
        "id": "EZJo8m9_s9BA",
        "outputId": "26e726b3-8035-4f29-8436-b7ab853bfe0a"
      },
      "source": [
        "from sklearn.naive_bayes import MultinomialNB\n",
        "clf = MultinomialNB()\n",
        "clf.fit(X_train, Y_train)"
      ],
      "execution_count": null,
      "outputs": [
        {
          "output_type": "execute_result",
          "data": {
            "text/plain": [
              "MultinomialNB(alpha=1.0, class_prior=None, fit_prior=True)"
            ]
          },
          "metadata": {
            "tags": []
          },
          "execution_count": 45
        }
      ]
    },
    {
      "cell_type": "code",
      "metadata": {
        "colab": {
          "base_uri": "https://localhost:8080/"
        },
        "id": "ZOZb9Bfps89h",
        "outputId": "c4f5bbbb-85b2-4bf3-ecd4-dee9d43f76e7"
      },
      "source": [
        "print(\"Accuracy Score on Train\", clf.score(X_train, Y_train))"
      ],
      "execution_count": null,
      "outputs": [
        {
          "output_type": "stream",
          "text": [
            "Accuracy Score on Train 0.9250571428571429\n"
          ],
          "name": "stdout"
        }
      ]
    },
    {
      "cell_type": "code",
      "metadata": {
        "colab": {
          "base_uri": "https://localhost:8080/"
        },
        "id": "BlYob97as85D",
        "outputId": "9610668a-2740-4861-f7de-ac7998e30f53"
      },
      "source": [
        "from sklearn.metrics import classification_report, confusion_matrix, accuracy_score\n",
        "predictNB = clf.predict(X_test)\n",
        "print(\"Accuracy Score on Test\", accuracy_score(Y_test, predictNB))"
      ],
      "execution_count": null,
      "outputs": [
        {
          "output_type": "stream",
          "text": [
            "Accuracy Score on Test 0.8550666666666666\n"
          ],
          "name": "stdout"
        }
      ]
    },
    {
      "cell_type": "code",
      "metadata": {
        "colab": {
          "base_uri": "https://localhost:8080/"
        },
        "id": "uI0Dy4gSYbmw",
        "outputId": "29cb143b-f94c-4aef-b6a9-57686035ea84"
      },
      "source": [
        "from sklearn.metrics import classification_report, confusion_matrix, accuracy_score\n",
        "predictNB = clf.predict(X_test)\n",
        "print(\"Accuracy Score on Test\", accuracy_score(Y_test, predictNB))"
      ],
      "execution_count": null,
      "outputs": [
        {
          "output_type": "stream",
          "text": [
            "Accuracy Score on Test 84.6516\n"
          ],
          "name": "stdout"
        }
      ]
    },
    {
      "cell_type": "code",
      "metadata": {
        "colab": {
          "base_uri": "https://localhost:8080/"
        },
        "id": "bCzlWbv-xUjz",
        "outputId": "75d3b989-f37c-422e-9975-ea28f59698d6"
      },
      "source": [
        "matrix = confusion_matrix(Y_test, predictNB)\n",
        "print(matrix)"
      ],
      "execution_count": null,
      "outputs": [
        {
          "output_type": "stream",
          "text": [
            "[[6495  999]\n",
            " [1175 6331]]\n"
          ],
          "name": "stdout"
        }
      ]
    },
    {
      "cell_type": "code",
      "metadata": {
        "colab": {
          "base_uri": "https://localhost:8080/"
        },
        "id": "qAQPKJoOxa7Z",
        "outputId": "45c405bb-9076-4650-9d3d-dd7b8207bb7e"
      },
      "source": [
        "print(classification_report(Y_test, predictNB))"
      ],
      "execution_count": null,
      "outputs": [
        {
          "output_type": "stream",
          "text": [
            "              precision    recall  f1-score   support\n",
            "\n",
            "    negative       0.85      0.87      0.86      7494\n",
            "    positive       0.86      0.84      0.85      7506\n",
            "\n",
            "    accuracy                           0.86     15000\n",
            "   macro avg       0.86      0.86      0.86     15000\n",
            "weighted avg       0.86      0.86      0.86     15000\n",
            "\n"
          ],
          "name": "stdout"
        }
      ]
    },
    {
      "cell_type": "code",
      "metadata": {
        "colab": {
          "base_uri": "https://localhost:8080/",
          "height": 282
        },
        "id": "mPlfaulSxav8",
        "outputId": "71db3da0-086f-4174-f41d-11dcc1ff7f88"
      },
      "source": [
        "print(sns.heatmap(matrix/np.sum(matrix), annot=True,fmt='.2%'))"
      ],
      "execution_count": null,
      "outputs": [
        {
          "output_type": "stream",
          "text": [
            "AxesSubplot(0.125,0.125;0.62x0.755)\n"
          ],
          "name": "stdout"
        },
        {
          "output_type": "display_data",
          "data": {
            "image/png": "[encoded data removed]",
            "text/plain": [
              "<Figure size 432x288 with 2 Axes>"
            ]
          },
          "metadata": {
            "tags": [],
            "needs_background": "light"
          }
        }
      ]
    },
    {
      "cell_type": "markdown",
      "metadata": {
        "id": "wEVF0Hvo5_W3"
      },
      "source": [
        "## **2. Gaussian Naive Bayes**"
      ]
    },
    {
      "cell_type": "code",
      "metadata": {
        "colab": {
          "base_uri": "https://localhost:8080/"
        },
        "id": "bEHg4JQ9Tfrd",
        "outputId": "2f808388-1488-46c5-bf23-b2078f1b9e85"
      },
      "source": [
        "print(X_train.shape)"
      ],
      "execution_count": null,
      "outputs": [
        {
          "output_type": "stream",
          "text": [
            "(35000, 174914)\n"
          ],
          "name": "stdout"
        }
      ]
    },
    {
      "cell_type": "code",
      "metadata": {
        "id": "FxOXv26a6HVn"
      },
      "source": [
        "from sklearn.naive_bayes import GaussianNB\n",
        "clf = GaussianNB()\n",
        "X_train = X_train.toarray()\n",
        "for i in range (0,3600):\n",
        "  clf.partial_fit(X_train[i*10:(i+1)*10],Y_train[i*10:(i+1)*10])"
      ],
      "execution_count": null,
      "outputs": []
    },
    {
      "cell_type": "code",
      "metadata": {
        "colab": {
          "base_uri": "https://localhost:8080/"
        },
        "id": "xmxWr91aYS_y",
        "outputId": "582178a2-9de5-49b6-dff5-39c8ea4e37b5"
      },
      "source": [
        "print(\"Accuracy Score on Train\", clf.score(X_train, Y_train))"
      ],
      "execution_count": null,
      "outputs": [
        {
          "output_type": "stream",
          "text": [
            "Accuracy Score on Train 91.58065714285715\n"
          ],
          "name": "stdout"
        }
      ]
    },
    {
      "cell_type": "code",
      "metadata": {
        "colab": {
          "base_uri": "https://localhost:8080/"
        },
        "id": "5tWGM92oYHgg",
        "outputId": "29cb143b-f94c-4aef-b6a9-57686035ea84"
      },
      "source": [
        "from sklearn.metrics import classification_report, confusion_matrix, accuracy_score\n",
        "predictGB = clf.predict(X_test)\n",
        "print(\"Accuracy Score on Test\", accuracy_score(Y_test, predictGB))"
      ],
      "execution_count": null,
      "outputs": [
        {
          "output_type": "stream",
          "text": [
            "Accuracy Score on Test 84.6516\n"
          ],
          "name": "stdout"
        }
      ]
    },
    {
      "cell_type": "code",
      "metadata": {
        "colab": {
          "base_uri": "https://localhost:8080/"
        },
        "id": "6kGsxslTYlmh",
        "outputId": "75d3b989-f37c-422e-9975-ea28f59698d6"
      },
      "source": [
        "matrix = confusion_matrix(Y_test, predictGB)\n",
        "print(matrix)"
      ],
      "execution_count": null,
      "outputs": [
        {
          "output_type": "stream",
          "text": [
            "[[6495  999]\n",
            " [1175 6331]]\n"
          ],
          "name": "stdout"
        }
      ]
    },
    {
      "cell_type": "code",
      "metadata": {
        "colab": {
          "base_uri": "https://localhost:8080/",
          "height": 282
        },
        "id": "DyKFiMYEXl6I",
        "outputId": "f898f6be-4ad5-4336-8c9e-f222c71bfe8a"
      },
      "source": [
        "print(sns.heatmap(matrix/np.sum(matrix), annot=True,fmt='.2%'))"
      ],
      "execution_count": null,
      "outputs": [
        {
          "output_type": "stream",
          "text": [
            "AxesSubplot(0.125,0.125;0.62x0.755)\n"
          ],
          "name": "stdout"
        },
        {
          "output_type": "display_data",
          "data": {
            "image/png": "[encoded data removed]",
            "text/plain": [
              "<Figure size 432x288 with 2 Axes>"
            ]
          },
          "metadata": {
            "tags": [],
            "needs_background": "light"
          }
        }
      ]
    },
    {
      "cell_type": "markdown",
      "metadata": {
        "id": "60SUuGc-GOG6"
      },
      "source": [
        "## **3. Support Vector Machine**"
      ]
    },
    {
      "cell_type": "code",
      "metadata": {
        "id": "NNybUhQnGSJx"
      },
      "source": [
        "from sklearn.svm import SVC\n",
        "import numpy as np\n",
        "from sklearn.metrics import accuracy_score\n",
        "svmpolynomial = SVC(gamma = 0.1, kernel = 'poly', random_state = 45)\n",
        "svmpolynomial.fit(X_train,Y_train)\n",
        "labels_predict = svmpolynomial.predict(X_test)"
      ],
      "execution_count": null,
      "outputs": []
    },
    {
      "cell_type": "code",
      "metadata": {
        "colab": {
          "base_uri": "https://localhost:8080/"
        },
        "id": "wvm6P4WDGuqN",
        "outputId": "0d0f6f83-0a5e-4897-c47e-0d8f814c07a6"
      },
      "source": [
        "print(accuracy_score(Y_test,labels_predict))"
      ],
      "execution_count": null,
      "outputs": [
        {
          "output_type": "stream",
          "text": [
            "0.8336\n"
          ],
          "name": "stdout"
        }
      ]
    },
    {
      "cell_type": "code",
      "metadata": {
        "id": "uk81aYAtGxfm"
      },
      "source": [
        "from sklearn.metrics import confusion_matrix\n",
        "from sklearn.metrics import classification_report"
      ],
      "execution_count": null,
      "outputs": []
    },
    {
      "cell_type": "code",
      "metadata": {
        "colab": {
          "base_uri": "https://localhost:8080/"
        },
        "id": "hFbmtLQ1G4ms",
        "outputId": "98616baf-81ec-44c4-b6f2-bac72f913603"
      },
      "source": [
        "print(\"Confusion Matrix\")\n",
        "matrix = confusion_matrix(Y_test,labels_predict)\n",
        "print(confusion_matrix(Y_test,labels_predict))"
      ],
      "execution_count": null,
      "outputs": [
        {
          "output_type": "stream",
          "text": [
            "Confusion Matrix\n",
            "[[5891 1603]\n",
            " [ 893 6613]]\n"
          ],
          "name": "stdout"
        }
      ]
    },
    {
      "cell_type": "code",
      "metadata": {
        "id": "pKXlS-7AG5OK",
        "colab": {
          "base_uri": "https://localhost:8080/"
        },
        "outputId": "b501afdb-d50c-43f0-80b1-e26fbbab6e61"
      },
      "source": [
        "print(\"CLassification Report\")\n",
        "print(classification_report(Y_test, labels_predict))"
      ],
      "execution_count": null,
      "outputs": [
        {
          "output_type": "stream",
          "text": [
            "Classifiction Report\n",
            "              precision    recall  f1-score   support\n",
            "\n",
            "    negative       0.87      0.79      0.83      7494\n",
            "    positive       0.80      0.88      0.84      7506\n",
            "\n",
            "    accuracy                           0.83     15000\n",
            "   macro avg       0.84      0.83      0.83     15000\n",
            "weighted avg       0.84      0.83      0.83     15000\n",
            "\n"
          ],
          "name": "stdout"
        }
      ]
    },
    {
      "cell_type": "code",
      "metadata": {
        "id": "-IDkdM4nHNf9",
        "colab": {
          "base_uri": "https://localhost:8080/",
          "height": 282
        },
        "outputId": "855d5c2e-8659-46b3-8b2e-76620f151f52"
      },
      "source": [
        "print(sns.heatmap(matrix/np.sum(matrix), annot=True,fmt='.2%'))"
      ],
      "execution_count": null,
      "outputs": [
        {
          "output_type": "stream",
          "text": [
            "AxesSubplot(0.125,0.125;0.62x0.755)\n"
          ],
          "name": "stdout"
        },
        {
          "output_type": "display_data",
          "data": {
            "image/png": "[encoded data removed]",
            "text/plain": [
              "<Figure size 432x288 with 2 Axes>"
            ]
          },
          "metadata": {
            "tags": [],
            "needs_background": "light"
          }
        }
      ]
    },
    {
      "cell_type": "markdown",
      "metadata": {
        "id": "0NBtvD6unIvg"
      },
      "source": [
        "## **4. Decision Tree**"
      ]
    },
    {
      "cell_type": "code",
      "metadata": {
        "id": "uxMksoAQnhCz"
      },
      "source": [
        "import seaborn as sns\n",
        "import matplotlib.pyplot as plt\n",
        "import pandas as pd\n",
        "from sklearn.tree import DecisionTreeClassifier\n",
        "from sklearn.metrics import classification_report, confusion_matrix, accuracy_score\n",
        "classifier = DecisionTreeClassifier()\n",
        "classifier.fit(X_train, Y_train)\n",
        "y_pred = classifier.predict(X_test)"
      ],
      "execution_count": null,
      "outputs": []
    },
    {
      "cell_type": "code",
      "metadata": {
        "colab": {
          "base_uri": "https://localhost:8080/"
        },
        "id": "VgjStUIXoxob",
        "outputId": "cd68b2c4-4a00-4d59-9a4a-fa46edc2b5e2"
      },
      "source": [
        "print(accuracy_score(Y_test,y_pred))"
      ],
      "execution_count": null,
      "outputs": [
        {
          "output_type": "stream",
          "text": [
            "0.734\n"
          ],
          "name": "stdout"
        }
      ]
    },
    {
      "cell_type": "code",
      "metadata": {
        "id": "qVzMUF2Dn6Im",
        "colab": {
          "base_uri": "https://localhost:8080/"
        },
        "outputId": "d4ec508f-2097-48a2-8005-ea09556725fd"
      },
      "source": [
        "print(\"Confusion Matrix\")\n",
        "matrix = confusion_matrix(Y_test,y_pred)\n",
        "print(confusion_matrix(Y_test,y_pred))"
      ],
      "execution_count": null,
      "outputs": [
        {
          "output_type": "stream",
          "text": [
            "Confusion Matrix\n",
            "[[5891 1603]\n",
            " [ 893 6613]]\n"
          ],
          "name": "stdout"
        }
      ]
    },
    {
      "cell_type": "code",
      "metadata": {
        "colab": {
          "base_uri": "https://localhost:8080/"
        },
        "id": "KaETt3NCoe9-",
        "outputId": "0be9a570-9cbb-48f8-b15c-1f4bde8fcece"
      },
      "source": [
        "print(\"CLassification Report\")\n",
        "print(classification_report(Y_test, y_pred))"
      ],
      "execution_count": null,
      "outputs": [
        {
          "output_type": "stream",
          "text": [
            "CLassification Report\n",
            "              precision    recall  f1-score   support\n",
            "\n",
            "    negative       0.73      0.74      0.74      7494\n",
            "    positive       0.74      0.73      0.73      7506\n",
            "\n",
            "    accuracy                           0.73     15000\n",
            "   macro avg       0.73      0.73      0.73     15000\n",
            "weighted avg       0.73      0.73      0.73     15000\n",
            "\n"
          ],
          "name": "stdout"
        }
      ]
    },
    {
      "cell_type": "code",
      "metadata": {
        "colab": {
          "base_uri": "https://localhost:8080/",
          "height": 282
        },
        "id": "i5EV4Dk0pINW",
        "outputId": "0af17f2b-77bc-486e-b927-11c1c8d204d3"
      },
      "source": [
        "print(sns.heatmap(matrix/np.sum(matrix), annot=True,fmt='.2%'))"
      ],
      "execution_count": null,
      "outputs": [
        {
          "output_type": "stream",
          "text": [
            "AxesSubplot(0.125,0.125;0.62x0.755)\n"
          ],
          "name": "stdout"
        },
        {
          "output_type": "display_data",
          "data": {
            "image/png": "[encoded data removed]",
            "text/plain": [
              "<Figure size 432x288 with 2 Axes>"
            ]
          },
          "metadata": {
            "tags": [],
            "needs_background": "light"
          }
        }
      ]
    },
    {
      "cell_type": "markdown",
      "metadata": {
        "id": "ASgXD8M3pSJp"
      },
      "source": [
        "## **5. Maximum Entropy**"
      ]
    },
    {
      "cell_type": "code",
      "metadata": {
        "id": "EORf5bIfs4G7"
      },
      "source": [
        "from sklearn import linear_model\n",
        "from sklearn.metrics import classification_report, confusion_matrix, accuracy_score"
      ],
      "execution_count": null,
      "outputs": []
    },
    {
      "cell_type": "code",
      "metadata": {
        "colab": {
          "base_uri": "https://localhost:8080/"
        },
        "id": "vb-4kVYEs490",
        "outputId": "7df8c193-5aa2-49b1-93e3-c51c574e299f"
      },
      "source": [
        "maxent = linear_model.LogisticRegression(penalty = 'l2', C=1.0, max_iter=800)\n",
        "maxent.fit(X_train, Y_train)"
      ],
      "execution_count": null,
      "outputs": [
        {
          "output_type": "execute_result",
          "data": {
            "text/plain": [
              "LogisticRegression(C=1.0, class_weight=None, dual=False, fit_intercept=True,\n",
              "                   intercept_scaling=1, l1_ratio=None, max_iter=800,\n",
              "                   multi_class='auto', n_jobs=None, penalty='l2',\n",
              "                   random_state=None, solver='lbfgs', tol=0.0001, verbose=0,\n",
              "                   warm_start=False)"
            ]
          },
          "metadata": {
            "tags": []
          },
          "execution_count": 49
        }
      ]
    },
    {
      "cell_type": "code",
      "metadata": {
        "colab": {
          "base_uri": "https://localhost:8080/"
        },
        "id": "Epei91Gks4RW",
        "outputId": "ed4f253f-90ea-4db7-ead7-23d38a78d027"
      },
      "source": [
        "y_pred = maxent.predict(X_test)\n",
        "print(\"Accuracy Score on Test\", accuracy_score(Y_test,y_pred))"
      ],
      "execution_count": null,
      "outputs": [
        {
          "output_type": "stream",
          "text": [
            "Accuracy Score on Test 0.8846\n"
          ],
          "name": "stdout"
        }
      ]
    },
    {
      "cell_type": "code",
      "metadata": {
        "colab": {
          "base_uri": "https://localhost:8080/"
        },
        "id": "cStBQERvs4N6",
        "outputId": "36c0d449-448b-4fd8-afae-8ac61d936ba6"
      },
      "source": [
        "print(\"Confusion Matrix\")\n",
        "matrix = confusion_matrix(Y_test,y_pred)\n",
        "print(confusion_matrix(Y_test,y_pred))"
      ],
      "execution_count": null,
      "outputs": [
        {
          "output_type": "stream",
          "text": [
            "Confusion Matrix\n",
            "[[6578  916]\n",
            " [ 815 6691]]\n"
          ],
          "name": "stdout"
        }
      ]
    },
    {
      "cell_type": "code",
      "metadata": {
        "colab": {
          "base_uri": "https://localhost:8080/"
        },
        "id": "RKwE4dQXtePO",
        "outputId": "80ba4adc-1d24-47e5-943d-bb6936f4071d"
      },
      "source": [
        "print(\"CLassification Report\")\n",
        "print(classification_report(Y_test, y_pred))"
      ],
      "execution_count": null,
      "outputs": [
        {
          "output_type": "stream",
          "text": [
            "CLassification Report\n",
            "              precision    recall  f1-score   support\n",
            "\n",
            "    negative       0.89      0.88      0.88      7494\n",
            "    positive       0.88      0.89      0.89      7506\n",
            "\n",
            "    accuracy                           0.88     15000\n",
            "   macro avg       0.88      0.88      0.88     15000\n",
            "weighted avg       0.88      0.88      0.88     15000\n",
            "\n"
          ],
          "name": "stdout"
        }
      ]
    },
    {
      "cell_type": "code",
      "metadata": {
        "colab": {
          "base_uri": "https://localhost:8080/",
          "height": 282
        },
        "id": "JjezkijZteGu",
        "outputId": "0043d0bf-f1a0-48ad-ae68-2e689125e21f"
      },
      "source": [
        "print(sns.heatmap(matrix/np.sum(matrix), annot=True,fmt='.2%'))"
      ],
      "execution_count": null,
      "outputs": [
        {
          "output_type": "stream",
          "text": [
            "AxesSubplot(0.125,0.125;0.62x0.755)\n"
          ],
          "name": "stdout"
        },
        {
          "output_type": "display_data",
          "data": {
            "image/png": "[encoded data removed]",
            "text/plain": [
              "<Figure size 432x288 with 2 Axes>"
            ]
          },
          "metadata": {
            "tags": [],
            "needs_background": "light"
          }
        }
      ]
    },
    {
      "cell_type": "markdown",
      "metadata": {
        "id": "ynjDzIKYDntl"
      },
      "source": [
        "## **Hyperparameter Tuning on 2 best model**"
      ]
    },
    {
      "cell_type": "markdown",
      "metadata": {
        "id": "vSwpH572Xl9m"
      },
      "source": [
        "### **Naive Bayes Optimization**"
      ]
    },
    {
      "cell_type": "code",
      "metadata": {
        "id": "p9hZWGKZeEJY"
      },
      "source": [
        "alpha_ = [float(x) for x in np.linspace(start = 1, stop = 5, num = 10)]\n",
        "random_grid = {'alpha': alpha_,\n",
        "               'fit_prior': ['true', 'false']\n",
        "              }"
      ],
      "execution_count": null,
      "outputs": []
    },
    {
      "cell_type": "code",
      "metadata": {
        "colab": {
          "base_uri": "https://localhost:8080/"
        },
        "id": "4us88bKFXsko",
        "outputId": "d188ef84-b7ba-4919-c20b-1c0151f84265"
      },
      "source": [
        "from sklearn.naive_bayes import MultinomialNB\n",
        "from sklearn.model_selection import RandomizedSearchCV\n",
        "nb = MultinomialNB()\n",
        "rf_randomcv=RandomizedSearchCV(estimator=nb,param_distributions=random_grid,n_iter=100,cv=3,verbose=2,\n",
        "                               random_state=100,n_jobs=-1)\n",
        "### fit the randomized model\n",
        "rf_randomcv.fit(X_train,Y_train)"
      ],
      "execution_count": null,
      "outputs": [
        {
          "output_type": "stream",
          "text": [
            "/usr/local/lib/python3.7/dist-packages/sklearn/model_selection/_search.py:281: UserWarning: The total space of parameters 20 is smaller than n_iter=100. Running 20 iterations. For exhaustive searches, use GridSearchCV.\n",
            "  % (grid_size, self.n_iter, grid_size), UserWarning)\n",
            "[Parallel(n_jobs=-1)]: Using backend LokyBackend with 2 concurrent workers.\n"
          ],
          "name": "stderr"
        },
        {
          "output_type": "stream",
          "text": [
            "Fitting 3 folds for each of 20 candidates, totalling 60 fits\n"
          ],
          "name": "stdout"
        },
        {
          "output_type": "stream",
          "text": [
            "[Parallel(n_jobs=-1)]: Done  37 tasks      | elapsed:    5.0s\n",
            "[Parallel(n_jobs=-1)]: Done  60 out of  60 | elapsed:    7.8s finished\n"
          ],
          "name": "stderr"
        },
        {
          "output_type": "execute_result",
          "data": {
            "text/plain": [
              "RandomizedSearchCV(cv=3, error_score=nan,\n",
              "                   estimator=MultinomialNB(alpha=1.0, class_prior=None,\n",
              "                                           fit_prior=True),\n",
              "                   iid='deprecated', n_iter=100, n_jobs=-1,\n",
              "                   param_distributions={'alpha': [1.0, 1.4444444444444444,\n",
              "                                                  1.8888888888888888,\n",
              "                                                  2.333333333333333,\n",
              "                                                  2.7777777777777777,\n",
              "                                                  3.2222222222222223,\n",
              "                                                  3.6666666666666665,\n",
              "                                                  4.111111111111111,\n",
              "                                                  4.555555555555555, 5.0],\n",
              "                                        'fit_prior': ['true', 'false']},\n",
              "                   pre_dispatch='2*n_jobs', random_state=100, refit=True,\n",
              "                   return_train_score=False, scoring=None, verbose=2)"
            ]
          },
          "metadata": {
            "tags": []
          },
          "execution_count": 70
        }
      ]
    },
    {
      "cell_type": "code",
      "metadata": {
        "colab": {
          "base_uri": "https://localhost:8080/"
        },
        "id": "gz3_oD65gN1H",
        "outputId": "f9cda284-03bd-4f5d-b5d6-29c39864c01e"
      },
      "source": [
        "rf_randomcv.best_params_"
      ],
      "execution_count": null,
      "outputs": [
        {
          "output_type": "execute_result",
          "data": {
            "text/plain": [
              "{'alpha': 2.7777777777777777, 'fit_prior': 'true'}"
            ]
          },
          "metadata": {
            "tags": []
          },
          "execution_count": 71
        }
      ]
    },
    {
      "cell_type": "code",
      "metadata": {
        "id": "ybYaYqbQfJRk"
      },
      "source": [
        "clf = rf_randomcv.best_estimator_"
      ],
      "execution_count": null,
      "outputs": []
    },
    {
      "cell_type": "code",
      "metadata": {
        "colab": {
          "base_uri": "https://localhost:8080/"
        },
        "id": "1AmJQ9x_XseL",
        "outputId": "259a9e14-7570-4536-a870-911c20b08f06"
      },
      "source": [
        "from sklearn.metrics import classification_report, confusion_matrix, accuracy_score\n",
        "predictNB = clf.predict(X_test)\n",
        "print(\"Accuracy Score on Test\", accuracy_score(Y_test, predictNB))"
      ],
      "execution_count": null,
      "outputs": [
        {
          "output_type": "stream",
          "text": [
            "Accuracy Score on Test 0.8542666666666666\n"
          ],
          "name": "stdout"
        }
      ]
    },
    {
      "cell_type": "code",
      "metadata": {
        "colab": {
          "base_uri": "https://localhost:8080/"
        },
        "id": "UuOAmgV4XsM4",
        "outputId": "d57c0621-9969-4f7e-934a-86425b7a2127"
      },
      "source": [
        "matrix = confusion_matrix(Y_test, predictNB)\n",
        "print(matrix)"
      ],
      "execution_count": null,
      "outputs": [
        {
          "output_type": "stream",
          "text": [
            "[[6473 1021]\n",
            " [1165 6341]]\n"
          ],
          "name": "stdout"
        }
      ]
    },
    {
      "cell_type": "markdown",
      "metadata": {
        "id": "p6xj_omvmqlV"
      },
      "source": [
        "### **ME opt**"
      ]
    },
    {
      "cell_type": "code",
      "metadata": {
        "id": "Ul3SuR8Nm-uG"
      },
      "source": [
        "tol_ = [float(x) for x in np.linspace(start = 0.00001, stop = 0.0005, num = 10)]\n",
        "verbose_ = [int(x) for x in np.linspace(start = 1, stop = 10, num = 1)]\n",
        "random_state_ = [int(x) for x in np.linspace(start = 1, stop = 10, num = 1)]\n",
        "C_ = [float(x) for x in np.linspace(start = 0.01, stop = 0.1, num = 10)]\n",
        "max_iter_ = [int(x) for x in np.linspace(start = 100, stop = 800, num = 8)]\n",
        "intercept_scaling_ = [float(x) for x in np.linspace(start = 1, stop = 5, num = 10)]\n",
        "l1_ratio_ = [float(x) for x in np.linspace(start = 0, stop = 1, num = 10)]\n",
        "\n",
        "random_grid1 = {'penalty':['l1', 'l2', 'none'],\n",
        "                'tol':tol_,\n",
        "                'C': C_,\n",
        "                'max_iter': max_iter_,\n",
        "                'intercept_scaling': intercept_scaling_,\n",
        "                'class_weight':'balanced',\n",
        "                'solver':['newton-cg', 'lbfgs', 'liblinear', 'sag', 'saga'],\n",
        "                'random_state':random_state_,\n",
        "                'multi_class': ['auto', 'ovr', 'multinomial'],\n",
        "                'verbose':verbose_,\n",
        "                'l1_ratio': l1_ratio_\n",
        "              }"
      ],
      "execution_count": null,
      "outputs": []
    },
    {
      "cell_type": "code",
      "metadata": {
        "colab": {
          "base_uri": "https://localhost:8080/"
        },
        "id": "2LFLAqOwmqIS",
        "outputId": "6300b2b2-aebf-4c73-94e6-f74cce32a78e"
      },
      "source": [
        "from sklearn import linear_model\n",
        "from sklearn.model_selection import RandomizedSearchCV\n",
        "\n",
        "me = linear_model.LogisticRegression()\n",
        "rf_randomcv=RandomizedSearchCV(estimator=me,param_distributions=random_grid1,n_iter=100,cv=2,verbose=2,\n",
        "                               random_state=100,n_jobs=-1)\n",
        "### fit the randomized model\n",
        "rf_randomcv.fit(X_train,Y_train)"
      ],
      "execution_count": null,
      "outputs": [
        {
          "output_type": "stream",
          "text": [
            "Fitting 2 folds for each of 100 candidates, totalling 200 fits\n"
          ],
          "name": "stdout"
        },
        {
          "output_type": "stream",
          "text": [
            "[Parallel(n_jobs=-1)]: Using backend LokyBackend with 2 concurrent workers.\n",
            "[Parallel(n_jobs=-1)]: Done  37 tasks      | elapsed:  1.1min\n",
            "[Parallel(n_jobs=-1)]: Done 158 tasks      | elapsed: 10.1min\n",
            "[Parallel(n_jobs=-1)]: Done 200 out of 200 | elapsed: 13.7min finished\n",
            "/usr/local/lib/python3.7/dist-packages/sklearn/linear_model/_logistic.py:1501: UserWarning: l1_ratio parameter is only used when penalty is 'elasticnet'. Got (penalty=l2)\n",
            "  \"(penalty={})\".format(self.penalty))\n",
            "[Parallel(n_jobs=1)]: Using backend SequentialBackend with 1 concurrent workers.\n"
          ],
          "name": "stderr"
        },
        {
          "output_type": "stream",
          "text": [
            "max_iter reached after 18 seconds\n"
          ],
          "name": "stdout"
        },
        {
          "output_type": "stream",
          "text": [
            "/usr/local/lib/python3.7/dist-packages/sklearn/linear_model/_sag.py:330: ConvergenceWarning: The max_iter was reached which means the coef_ did not converge\n",
            "  \"the coef_ did not converge\", ConvergenceWarning)\n",
            "[Parallel(n_jobs=1)]: Done   1 out of   1 | elapsed:   17.5s finished\n"
          ],
          "name": "stderr"
        },
        {
          "output_type": "execute_result",
          "data": {
            "text/plain": [
              "RandomizedSearchCV(cv=2, error_score=nan,\n",
              "                   estimator=LogisticRegression(C=1.0, class_weight=None,\n",
              "                                                dual=False, fit_intercept=True,\n",
              "                                                intercept_scaling=1,\n",
              "                                                l1_ratio=None, max_iter=100,\n",
              "                                                multi_class='auto', n_jobs=None,\n",
              "                                                penalty='l2', random_state=None,\n",
              "                                                solver='lbfgs', tol=0.0001,\n",
              "                                                verbose=0, warm_start=False),\n",
              "                   iid='deprecated', n_iter=100, n_jobs=-1,\n",
              "                   param_distributions={'C': [...\n",
              "                                        'solver': ['newton-cg', 'lbfgs',\n",
              "                                                   'liblinear', 'sag', 'saga'],\n",
              "                                        'tol': [1e-05, 6.444444444444444e-05,\n",
              "                                                0.00011888888888888889,\n",
              "                                                0.00017333333333333334,\n",
              "                                                0.00022777777777777778,\n",
              "                                                0.00028222222222222223,\n",
              "                                                0.0003366666666666667,\n",
              "                                                0.0003911111111111112,\n",
              "                                                0.0004455555555555556, 0.0005],\n",
              "                                        'verbose': [1]},\n",
              "                   pre_dispatch='2*n_jobs', random_state=100, refit=True,\n",
              "                   return_train_score=False, scoring=None, verbose=2)"
            ]
          },
          "metadata": {
            "tags": []
          },
          "execution_count": 112
        }
      ]
    },
    {
      "cell_type": "code",
      "metadata": {
        "colab": {
          "base_uri": "https://localhost:8080/"
        },
        "id": "aDDI1ed5qhc1",
        "outputId": "a85c3985-135b-4cb4-8ce9-31b3aadf154c"
      },
      "source": [
        "rf_randomcv.best_params_"
      ],
      "execution_count": null,
      "outputs": [
        {
          "output_type": "execute_result",
          "data": {
            "text/plain": [
              "{'C': 0.06000000000000001,\n",
              " 'class_weight': 'n',\n",
              " 'intercept_scaling': 4.111111111111111,\n",
              " 'l1_ratio': 0.6666666666666666,\n",
              " 'max_iter': 200,\n",
              " 'multi_class': 'ovr',\n",
              " 'penalty': 'l2',\n",
              " 'random_state': 1,\n",
              " 'solver': 'sag',\n",
              " 'tol': 0.00011888888888888889,\n",
              " 'verbose': 1}"
            ]
          },
          "metadata": {
            "tags": []
          },
          "execution_count": 113
        }
      ]
    },
    {
      "cell_type": "code",
      "metadata": {
        "id": "E2zg7Yn0qlBK"
      },
      "source": [
        "clf = rf_randomcv.best_estimator_"
      ],
      "execution_count": null,
      "outputs": []
    },
    {
      "cell_type": "code",
      "metadata": {
        "colab": {
          "base_uri": "https://localhost:8080/"
        },
        "id": "tlppTQK5qk5p",
        "outputId": "083d6ebc-a6b2-4124-cdd9-529582b72e25"
      },
      "source": [
        "from sklearn.metrics import classification_report, confusion_matrix, accuracy_score\n",
        "predictNB = clf.predict(X_test)\n",
        "print(\"Accuracy Score on Test\", accuracy_score(Y_test, predictNB))"
      ],
      "execution_count": null,
      "outputs": [
        {
          "output_type": "stream",
          "text": [
            "Accuracy Score on Test 0.8888\n"
          ],
          "name": "stdout"
        }
      ]
    },
    {
      "cell_type": "code",
      "metadata": {
        "colab": {
          "base_uri": "https://localhost:8080/"
        },
        "id": "ih6rqRIPqtu0",
        "outputId": "ae41eeff-f12f-413e-8543-2aa8e5d50e02"
      },
      "source": [
        "matrix = confusion_matrix(Y_test, predictNB)\n",
        "print(matrix)"
      ],
      "execution_count": null,
      "outputs": [
        {
          "output_type": "stream",
          "text": [
            "[[6593  901]\n",
            " [ 767 6739]]\n"
          ],
          "name": "stdout"
        }
      ]
    },
    {
      "cell_type": "markdown",
      "metadata": {
        "id": "gCfRgD1GqsVs"
      },
      "source": [
        "# **Using Word2Vec**"
      ]
    },
    {
      "cell_type": "code",
      "metadata": {
        "id": "dHvNCq3cuWhy",
        "colab": {
          "base_uri": "https://localhost:8080/"
        },
        "outputId": "65309187-476b-4831-e59e-f27c9ef604ea"
      },
      "source": [
        "!pip install spacy\n",
        "!python -m spacy download en_core_web_lg"
      ],
      "execution_count": null,
      "outputs": [
        {
          "output_type": "stream",
          "text": [
            "Requirement already satisfied: spacy in /usr/local/lib/python3.7/dist-packages (2.2.4)\n",
            "Requirement already satisfied: requests<3.0.0,>=2.13.0 in /usr/local/lib/python3.7/dist-packages (from spacy) (2.23.0)\n",
            "Requirement already satisfied: wasabi<1.1.0,>=0.4.0 in /usr/local/lib/python3.7/dist-packages (from spacy) (0.8.2)\n",
            "Requirement already satisfied: srsly<1.1.0,>=1.0.2 in /usr/local/lib/python3.7/dist-packages (from spacy) (1.0.5)\n",
            "Requirement already satisfied: setuptools in /usr/local/lib/python3.7/dist-packages (from spacy) (56.0.0)\n",
            "Requirement already satisfied: numpy>=1.15.0 in /usr/local/lib/python3.7/dist-packages (from spacy) (1.19.5)\n",
            "Requirement already satisfied: plac<1.2.0,>=0.9.6 in /usr/local/lib/python3.7/dist-packages (from spacy) (1.1.3)\n",
            "Requirement already satisfied: catalogue<1.1.0,>=0.0.7 in /usr/local/lib/python3.7/dist-packages (from spacy) (1.0.0)\n",
            "Requirement already satisfied: tqdm<5.0.0,>=4.38.0 in /usr/local/lib/python3.7/dist-packages (from spacy) (4.41.1)\n",
            "Requirement already satisfied: preshed<3.1.0,>=3.0.2 in /usr/local/lib/python3.7/dist-packages (from spacy) (3.0.5)\n",
            "Requirement already satisfied: blis<0.5.0,>=0.4.0 in /usr/local/lib/python3.7/dist-packages (from spacy) (0.4.1)\n",
            "Requirement already satisfied: murmurhash<1.1.0,>=0.28.0 in /usr/local/lib/python3.7/dist-packages (from spacy) (1.0.5)\n",
            "Requirement already satisfied: thinc==7.4.0 in /usr/local/lib/python3.7/dist-packages (from spacy) (7.4.0)\n",
            "Requirement already satisfied: cymem<2.1.0,>=2.0.2 in /usr/local/lib/python3.7/dist-packages (from spacy) (2.0.5)\n",
            "Requirement already satisfied: idna<3,>=2.5 in /usr/local/lib/python3.7/dist-packages (from requests<3.0.0,>=2.13.0->spacy) (2.10)\n",
            "Requirement already satisfied: chardet<4,>=3.0.2 in /usr/local/lib/python3.7/dist-packages (from requests<3.0.0,>=2.13.0->spacy) (3.0.4)\n",
            "Requirement already satisfied: certifi>=2017.4.17 in /usr/local/lib/python3.7/dist-packages (from requests<3.0.0,>=2.13.0->spacy) (2020.12.5)\n",
            "Requirement already satisfied: urllib3!=1.25.0,!=1.25.1,<1.26,>=1.21.1 in /usr/local/lib/python3.7/dist-packages (from requests<3.0.0,>=2.13.0->spacy) (1.24.3)\n",
            "Requirement already satisfied: importlib-metadata>=0.20; python_version < \"3.8\" in /usr/local/lib/python3.7/dist-packages (from catalogue<1.1.0,>=0.0.7->spacy) (3.10.1)\n",
            "Requirement already satisfied: zipp>=0.5 in /usr/local/lib/python3.7/dist-packages (from importlib-metadata>=0.20; python_version < \"3.8\"->catalogue<1.1.0,>=0.0.7->spacy) (3.4.1)\n",
            "Requirement already satisfied: typing-extensions>=3.6.4; python_version < \"3.8\" in /usr/local/lib/python3.7/dist-packages (from importlib-metadata>=0.20; python_version < \"3.8\"->catalogue<1.1.0,>=0.0.7->spacy) (3.7.4.3)\n",
            "Collecting en_core_web_lg==2.2.5\n",
            "\u001b[?25l  Downloading https://github.com/explosion/spacy-models/releases/download/en_core_web_lg-2.2.5/en_core_web_lg-2.2.5.tar.gz (827.9MB)\n",
            "\u001b[K     |████████████████████████████████| 827.9MB 1.2MB/s \n",
            "\u001b[?25hRequirement already satisfied: spacy>=2.2.2 in /usr/local/lib/python3.7/dist-packages (from en_core_web_lg==2.2.5) (2.2.4)\n",
            "Requirement already satisfied: srsly<1.1.0,>=1.0.2 in /usr/local/lib/python3.7/dist-packages (from spacy>=2.2.2->en_core_web_lg==2.2.5) (1.0.5)\n",
            "Requirement already satisfied: blis<0.5.0,>=0.4.0 in /usr/local/lib/python3.7/dist-packages (from spacy>=2.2.2->en_core_web_lg==2.2.5) (0.4.1)\n",
            "Requirement already satisfied: murmurhash<1.1.0,>=0.28.0 in /usr/local/lib/python3.7/dist-packages (from spacy>=2.2.2->en_core_web_lg==2.2.5) (1.0.5)\n",
            "Requirement already satisfied: numpy>=1.15.0 in /usr/local/lib/python3.7/dist-packages (from spacy>=2.2.2->en_core_web_lg==2.2.5) (1.19.5)\n",
            "Requirement already satisfied: setuptools in /usr/local/lib/python3.7/dist-packages (from spacy>=2.2.2->en_core_web_lg==2.2.5) (56.0.0)\n",
            "Requirement already satisfied: plac<1.2.0,>=0.9.6 in /usr/local/lib/python3.7/dist-packages (from spacy>=2.2.2->en_core_web_lg==2.2.5) (1.1.3)\n",
            "Requirement already satisfied: thinc==7.4.0 in /usr/local/lib/python3.7/dist-packages (from spacy>=2.2.2->en_core_web_lg==2.2.5) (7.4.0)\n",
            "Requirement already satisfied: preshed<3.1.0,>=3.0.2 in /usr/local/lib/python3.7/dist-packages (from spacy>=2.2.2->en_core_web_lg==2.2.5) (3.0.5)\n",
            "Requirement already satisfied: requests<3.0.0,>=2.13.0 in /usr/local/lib/python3.7/dist-packages (from spacy>=2.2.2->en_core_web_lg==2.2.5) (2.23.0)\n",
            "Requirement already satisfied: cymem<2.1.0,>=2.0.2 in /usr/local/lib/python3.7/dist-packages (from spacy>=2.2.2->en_core_web_lg==2.2.5) (2.0.5)\n",
            "Requirement already satisfied: wasabi<1.1.0,>=0.4.0 in /usr/local/lib/python3.7/dist-packages (from spacy>=2.2.2->en_core_web_lg==2.2.5) (0.8.2)\n",
            "Requirement already satisfied: tqdm<5.0.0,>=4.38.0 in /usr/local/lib/python3.7/dist-packages (from spacy>=2.2.2->en_core_web_lg==2.2.5) (4.41.1)\n",
            "Requirement already satisfied: catalogue<1.1.0,>=0.0.7 in /usr/local/lib/python3.7/dist-packages (from spacy>=2.2.2->en_core_web_lg==2.2.5) (1.0.0)\n",
            "Requirement already satisfied: urllib3!=1.25.0,!=1.25.1,<1.26,>=1.21.1 in /usr/local/lib/python3.7/dist-packages (from requests<3.0.0,>=2.13.0->spacy>=2.2.2->en_core_web_lg==2.2.5) (1.24.3)\n",
            "Requirement already satisfied: certifi>=2017.4.17 in /usr/local/lib/python3.7/dist-packages (from requests<3.0.0,>=2.13.0->spacy>=2.2.2->en_core_web_lg==2.2.5) (2020.12.5)\n",
            "Requirement already satisfied: idna<3,>=2.5 in /usr/local/lib/python3.7/dist-packages (from requests<3.0.0,>=2.13.0->spacy>=2.2.2->en_core_web_lg==2.2.5) (2.10)\n",
            "Requirement already satisfied: chardet<4,>=3.0.2 in /usr/local/lib/python3.7/dist-packages (from requests<3.0.0,>=2.13.0->spacy>=2.2.2->en_core_web_lg==2.2.5) (3.0.4)\n",
            "Requirement already satisfied: importlib-metadata>=0.20; python_version < \"3.8\" in /usr/local/lib/python3.7/dist-packages (from catalogue<1.1.0,>=0.0.7->spacy>=2.2.2->en_core_web_lg==2.2.5) (3.10.1)\n",
            "Requirement already satisfied: zipp>=0.5 in /usr/local/lib/python3.7/dist-packages (from importlib-metadata>=0.20; python_version < \"3.8\"->catalogue<1.1.0,>=0.0.7->spacy>=2.2.2->en_core_web_lg==2.2.5) (3.4.1)\n",
            "Requirement already satisfied: typing-extensions>=3.6.4; python_version < \"3.8\" in /usr/local/lib/python3.7/dist-packages (from importlib-metadata>=0.20; python_version < \"3.8\"->catalogue<1.1.0,>=0.0.7->spacy>=2.2.2->en_core_web_lg==2.2.5) (3.7.4.3)\n",
            "Building wheels for collected packages: en-core-web-lg\n",
            "  Building wheel for en-core-web-lg (setup.py) ... \u001b[?25l\u001b[?25hdone\n",
            "  Created wheel for en-core-web-lg: filename=en_core_web_lg-2.2.5-cp37-none-any.whl size=829180944 sha256=398ac96d25a2824be10a5ff19ca43effc0de2f43d6a954f2c28625fd87d29c6e\n",
            "  Stored in directory: /tmp/pip-ephem-wheel-cache-imrswpu1/wheels/2a/c1/a6/fc7a877b1efca9bc6a089d6f506f16d3868408f9ff89f8dbfc\n",
            "Successfully built en-core-web-lg\n",
            "Installing collected packages: en-core-web-lg\n",
            "Successfully installed en-core-web-lg-2.2.5\n",
            "\u001b[38;5;2m✔ Download and installation successful\u001b[0m\n",
            "You can now load the model via spacy.load('en_core_web_lg')\n"
          ],
          "name": "stdout"
        }
      ]
    },
    {
      "cell_type": "code",
      "metadata": {
        "colab": {
          "base_uri": "https://localhost:8080/"
        },
        "id": "LY7M9Yuan1XO",
        "outputId": "bdfa5e44-4ebc-475f-8daa-45a2baf27567"
      },
      "source": [
        "from google.colab import drive\n",
        "drive.mount('/content/drive')"
      ],
      "execution_count": null,
      "outputs": [
        {
          "output_type": "stream",
          "text": [
            "Drive already mounted at /content/drive; to attempt to forcibly remount, call drive.mount(\"/content/drive\", force_remount=True).\n"
          ],
          "name": "stdout"
        }
      ]
    },
    {
      "cell_type": "code",
      "metadata": {
        "id": "nWmETiThn1Tq"
      },
      "source": [
        "dataset_imbd = pd.read_csv('/content/drive/MyDrive/IMDB Dataset.csv', na_values='?') \n",
        "dataset_imbd = dataset_imbd.reset_index(drop=True)"
      ],
      "execution_count": null,
      "outputs": []
    },
    {
      "cell_type": "code",
      "metadata": {
        "colab": {
          "base_uri": "https://localhost:8080/",
          "height": 166
        },
        "id": "ij6keYSyn1QB",
        "outputId": "e34aaef2-ba5c-4884-8c12-8ea0cd93aed3"
      },
      "source": [
        "dataset_imbd.describe()"
      ],
      "execution_count": null,
      "outputs": [
        {
          "output_type": "execute_result",
          "data": {
            "text/html": [
              "<div>\n",
              "<style scoped>\n",
              "    .dataframe tbody tr th:only-of-type {\n",
              "        vertical-align: middle;\n",
              "    }\n",
              "\n",
              "    .dataframe tbody tr th {\n",
              "        vertical-align: top;\n",
              "    }\n",
              "\n",
              "    .dataframe thead th {\n",
              "        text-align: right;\n",
              "    }\n",
              "</style>\n",
              "<table border=\"1\" class=\"dataframe\">\n",
              "  <thead>\n",
              "    <tr style=\"text-align: right;\">\n",
              "      <th></th>\n",
              "      <th>review</th>\n",
              "      <th>sentiment</th>\n",
              "    </tr>\n",
              "  </thead>\n",
              "  <tbody>\n",
              "    <tr>\n",
              "      <th>count</th>\n",
              "      <td>50000</td>\n",
              "      <td>50000</td>\n",
              "    </tr>\n",
              "    <tr>\n",
              "      <th>unique</th>\n",
              "      <td>49582</td>\n",
              "      <td>2</td>\n",
              "    </tr>\n",
              "    <tr>\n",
              "      <th>top</th>\n",
              "      <td>Loved today's show!!! It was a variety and not...</td>\n",
              "      <td>negative</td>\n",
              "    </tr>\n",
              "    <tr>\n",
              "      <th>freq</th>\n",
              "      <td>5</td>\n",
              "      <td>25000</td>\n",
              "    </tr>\n",
              "  </tbody>\n",
              "</table>\n",
              "</div>"
            ],
            "text/plain": [
              "                                                   review sentiment\n",
              "count                                               50000     50000\n",
              "unique                                              49582         2\n",
              "top     Loved today's show!!! It was a variety and not...  negative\n",
              "freq                                                    5     25000"
            ]
          },
          "metadata": {
            "tags": []
          },
          "execution_count": 9
        }
      ]
    },
    {
      "cell_type": "code",
      "metadata": {
        "colab": {
          "base_uri": "https://localhost:8080/",
          "height": 360
        },
        "id": "c8CiQJn_oB3h",
        "outputId": "2224d1c1-66dc-4268-cebc-4e0078003e7e"
      },
      "source": [
        "print(dataset_imbd.shape)\n",
        "dataset_imbd.head(10)"
      ],
      "execution_count": null,
      "outputs": [
        {
          "output_type": "stream",
          "text": [
            "(50000, 2)\n"
          ],
          "name": "stdout"
        },
        {
          "output_type": "execute_result",
          "data": {
            "text/html": [
              "<div>\n",
              "<style scoped>\n",
              "    .dataframe tbody tr th:only-of-type {\n",
              "        vertical-align: middle;\n",
              "    }\n",
              "\n",
              "    .dataframe tbody tr th {\n",
              "        vertical-align: top;\n",
              "    }\n",
              "\n",
              "    .dataframe thead th {\n",
              "        text-align: right;\n",
              "    }\n",
              "</style>\n",
              "<table border=\"1\" class=\"dataframe\">\n",
              "  <thead>\n",
              "    <tr style=\"text-align: right;\">\n",
              "      <th></th>\n",
              "      <th>review</th>\n",
              "      <th>sentiment</th>\n",
              "    </tr>\n",
              "  </thead>\n",
              "  <tbody>\n",
              "    <tr>\n",
              "      <th>0</th>\n",
              "      <td>One of the other reviewers has mentioned that ...</td>\n",
              "      <td>positive</td>\n",
              "    </tr>\n",
              "    <tr>\n",
              "      <th>1</th>\n",
              "      <td>A wonderful little production. &lt;br /&gt;&lt;br /&gt;The...</td>\n",
              "      <td>positive</td>\n",
              "    </tr>\n",
              "    <tr>\n",
              "      <th>2</th>\n",
              "      <td>I thought this was a wonderful way to spend ti...</td>\n",
              "      <td>positive</td>\n",
              "    </tr>\n",
              "    <tr>\n",
              "      <th>3</th>\n",
              "      <td>Basically there's a family where a little boy ...</td>\n",
              "      <td>negative</td>\n",
              "    </tr>\n",
              "    <tr>\n",
              "      <th>4</th>\n",
              "      <td>Petter Mattei's \"Love in the Time of Money\" is...</td>\n",
              "      <td>positive</td>\n",
              "    </tr>\n",
              "    <tr>\n",
              "      <th>5</th>\n",
              "      <td>Probably my all-time favorite movie, a story o...</td>\n",
              "      <td>positive</td>\n",
              "    </tr>\n",
              "    <tr>\n",
              "      <th>6</th>\n",
              "      <td>I sure would like to see a resurrection of a u...</td>\n",
              "      <td>positive</td>\n",
              "    </tr>\n",
              "    <tr>\n",
              "      <th>7</th>\n",
              "      <td>This show was an amazing, fresh &amp; innovative i...</td>\n",
              "      <td>negative</td>\n",
              "    </tr>\n",
              "    <tr>\n",
              "      <th>8</th>\n",
              "      <td>Encouraged by the positive comments about this...</td>\n",
              "      <td>negative</td>\n",
              "    </tr>\n",
              "    <tr>\n",
              "      <th>9</th>\n",
              "      <td>If you like original gut wrenching laughter yo...</td>\n",
              "      <td>positive</td>\n",
              "    </tr>\n",
              "  </tbody>\n",
              "</table>\n",
              "</div>"
            ],
            "text/plain": [
              "                                              review sentiment\n",
              "0  One of the other reviewers has mentioned that ...  positive\n",
              "1  A wonderful little production. <br /><br />The...  positive\n",
              "2  I thought this was a wonderful way to spend ti...  positive\n",
              "3  Basically there's a family where a little boy ...  negative\n",
              "4  Petter Mattei's \"Love in the Time of Money\" is...  positive\n",
              "5  Probably my all-time favorite movie, a story o...  positive\n",
              "6  I sure would like to see a resurrection of a u...  positive\n",
              "7  This show was an amazing, fresh & innovative i...  negative\n",
              "8  Encouraged by the positive comments about this...  negative\n",
              "9  If you like original gut wrenching laughter yo...  positive"
            ]
          },
          "metadata": {
            "tags": []
          },
          "execution_count": 10
        }
      ]
    },
    {
      "cell_type": "code",
      "metadata": {
        "id": "_zPuUmHjoBU1"
      },
      "source": [
        "dataset_imbd['review'] = dataset_imbd['review'].apply(lambda x: dataClean(x))"
      ],
      "execution_count": null,
      "outputs": []
    },
    {
      "cell_type": "code",
      "metadata": {
        "colab": {
          "base_uri": "https://localhost:8080/",
          "height": 343
        },
        "id": "g55piWm4MeBF",
        "outputId": "23e27ff4-9797-45e2-8898-412735bd7cf6"
      },
      "source": [
        "dataset_imbd.head(10)"
      ],
      "execution_count": null,
      "outputs": [
        {
          "output_type": "execute_result",
          "data": {
            "text/html": [
              "<div>\n",
              "<style scoped>\n",
              "    .dataframe tbody tr th:only-of-type {\n",
              "        vertical-align: middle;\n",
              "    }\n",
              "\n",
              "    .dataframe tbody tr th {\n",
              "        vertical-align: top;\n",
              "    }\n",
              "\n",
              "    .dataframe thead th {\n",
              "        text-align: right;\n",
              "    }\n",
              "</style>\n",
              "<table border=\"1\" class=\"dataframe\">\n",
              "  <thead>\n",
              "    <tr style=\"text-align: right;\">\n",
              "      <th></th>\n",
              "      <th>review</th>\n",
              "      <th>sentiment</th>\n",
              "    </tr>\n",
              "  </thead>\n",
              "  <tbody>\n",
              "    <tr>\n",
              "      <th>0</th>\n",
              "      <td>reviewers mentioned watching 1 oz episode youl...</td>\n",
              "      <td>positive</td>\n",
              "    </tr>\n",
              "    <tr>\n",
              "      <th>1</th>\n",
              "      <td>wonderful little production filming technique ...</td>\n",
              "      <td>positive</td>\n",
              "    </tr>\n",
              "    <tr>\n",
              "      <th>2</th>\n",
              "      <td>thought wonderful way spend time hot summer we...</td>\n",
              "      <td>positive</td>\n",
              "    </tr>\n",
              "    <tr>\n",
              "      <th>3</th>\n",
              "      <td>basically theres family little boy jake thinks...</td>\n",
              "      <td>negative</td>\n",
              "    </tr>\n",
              "    <tr>\n",
              "      <th>4</th>\n",
              "      <td>petter matteis love time money visually stunni...</td>\n",
              "      <td>positive</td>\n",
              "    </tr>\n",
              "    <tr>\n",
              "      <th>5</th>\n",
              "      <td>probably alltime favorite movie story selfless...</td>\n",
              "      <td>positive</td>\n",
              "    </tr>\n",
              "    <tr>\n",
              "      <th>6</th>\n",
              "      <td>sure like resurrection dated seahunt series te...</td>\n",
              "      <td>positive</td>\n",
              "    </tr>\n",
              "    <tr>\n",
              "      <th>7</th>\n",
              "      <td>amazing fresh innovative idea 70s aired 7 8 ye...</td>\n",
              "      <td>negative</td>\n",
              "    </tr>\n",
              "    <tr>\n",
              "      <th>8</th>\n",
              "      <td>encouraged positive comments film looking forw...</td>\n",
              "      <td>negative</td>\n",
              "    </tr>\n",
              "    <tr>\n",
              "      <th>9</th>\n",
              "      <td>like original gut wrenching laughter like movi...</td>\n",
              "      <td>positive</td>\n",
              "    </tr>\n",
              "  </tbody>\n",
              "</table>\n",
              "</div>"
            ],
            "text/plain": [
              "                                              review sentiment\n",
              "0  reviewers mentioned watching 1 oz episode youl...  positive\n",
              "1  wonderful little production filming technique ...  positive\n",
              "2  thought wonderful way spend time hot summer we...  positive\n",
              "3  basically theres family little boy jake thinks...  negative\n",
              "4  petter matteis love time money visually stunni...  positive\n",
              "5  probably alltime favorite movie story selfless...  positive\n",
              "6  sure like resurrection dated seahunt series te...  positive\n",
              "7  amazing fresh innovative idea 70s aired 7 8 ye...  negative\n",
              "8  encouraged positive comments film looking forw...  negative\n",
              "9  like original gut wrenching laughter like movi...  positive"
            ]
          },
          "metadata": {
            "tags": []
          },
          "execution_count": 15
        }
      ]
    },
    {
      "cell_type": "code",
      "metadata": {
        "id": "Ae-3kwftrPE7"
      },
      "source": [
        "import spacy\n",
        "import en_core_web_lg\n",
        "nlp = en_core_web_lg.load()"
      ],
      "execution_count": null,
      "outputs": []
    },
    {
      "cell_type": "code",
      "metadata": {
        "id": "hhaDWCy3rPBj"
      },
      "source": [
        "def get_vec(x):\n",
        "  doc = nlp(x)\n",
        "  vec = doc.vector\n",
        "  return vec"
      ],
      "execution_count": null,
      "outputs": []
    },
    {
      "cell_type": "code",
      "metadata": {
        "id": "NbMymquarO-Y"
      },
      "source": [
        "dataset_imbd['vec'] = dataset_imbd['review'].apply(lambda x: get_vec(x))"
      ],
      "execution_count": null,
      "outputs": []
    },
    {
      "cell_type": "code",
      "metadata": {
        "id": "21XCqSBCqrc2",
        "colab": {
          "base_uri": "https://localhost:8080/",
          "height": 343
        },
        "outputId": "c750785c-fa37-45af-aa42-412d5f81aea3"
      },
      "source": [
        "dataset_imbd.head(10)"
      ],
      "execution_count": null,
      "outputs": [
        {
          "output_type": "execute_result",
          "data": {
            "text/html": [
              "<div>\n",
              "<style scoped>\n",
              "    .dataframe tbody tr th:only-of-type {\n",
              "        vertical-align: middle;\n",
              "    }\n",
              "\n",
              "    .dataframe tbody tr th {\n",
              "        vertical-align: top;\n",
              "    }\n",
              "\n",
              "    .dataframe thead th {\n",
              "        text-align: right;\n",
              "    }\n",
              "</style>\n",
              "<table border=\"1\" class=\"dataframe\">\n",
              "  <thead>\n",
              "    <tr style=\"text-align: right;\">\n",
              "      <th></th>\n",
              "      <th>review</th>\n",
              "      <th>sentiment</th>\n",
              "      <th>vec</th>\n",
              "    </tr>\n",
              "  </thead>\n",
              "  <tbody>\n",
              "    <tr>\n",
              "      <th>0</th>\n",
              "      <td>reviewers mentioned watching 1 oz episode youl...</td>\n",
              "      <td>positive</td>\n",
              "      <td>[-0.08648403, 0.06491846, -0.06025309, -0.0454...</td>\n",
              "    </tr>\n",
              "    <tr>\n",
              "      <th>1</th>\n",
              "      <td>wonderful little production filming technique ...</td>\n",
              "      <td>positive</td>\n",
              "      <td>[-0.03153765, 0.08566651, -0.041610494, 0.0076...</td>\n",
              "    </tr>\n",
              "    <tr>\n",
              "      <th>2</th>\n",
              "      <td>thought wonderful way spend time hot summer we...</td>\n",
              "      <td>positive</td>\n",
              "      <td>[-0.016099233, 0.10197374, -0.028735312, -0.10...</td>\n",
              "    </tr>\n",
              "    <tr>\n",
              "      <th>3</th>\n",
              "      <td>basically theres family little boy jake thinks...</td>\n",
              "      <td>negative</td>\n",
              "      <td>[-0.040155314, -0.019167345, -0.09651553, -0.0...</td>\n",
              "    </tr>\n",
              "    <tr>\n",
              "      <th>4</th>\n",
              "      <td>petter matteis love time money visually stunni...</td>\n",
              "      <td>positive</td>\n",
              "      <td>[0.0045765135, 0.09241039, -0.108158626, -0.10...</td>\n",
              "    </tr>\n",
              "    <tr>\n",
              "      <th>5</th>\n",
              "      <td>probably alltime favorite movie story selfless...</td>\n",
              "      <td>positive</td>\n",
              "      <td>[-0.08721831, 0.14089604, -0.052242003, -0.046...</td>\n",
              "    </tr>\n",
              "    <tr>\n",
              "      <th>6</th>\n",
              "      <td>sure like resurrection dated seahunt series te...</td>\n",
              "      <td>positive</td>\n",
              "      <td>[-0.030027747, 0.10627971, -0.07668429, -0.087...</td>\n",
              "    </tr>\n",
              "    <tr>\n",
              "      <th>7</th>\n",
              "      <td>amazing fresh innovative idea 70s aired 7 8 ye...</td>\n",
              "      <td>negative</td>\n",
              "      <td>[-0.06726362, 0.14709032, -0.036618788, -0.089...</td>\n",
              "    </tr>\n",
              "    <tr>\n",
              "      <th>8</th>\n",
              "      <td>encouraged positive comments film looking forw...</td>\n",
              "      <td>negative</td>\n",
              "      <td>[-0.08907281, 0.06900939, -0.060642082, -0.102...</td>\n",
              "    </tr>\n",
              "    <tr>\n",
              "      <th>9</th>\n",
              "      <td>like original gut wrenching laughter like movi...</td>\n",
              "      <td>positive</td>\n",
              "      <td>[-0.009328372, 0.10151131, -0.1637328, -0.0873...</td>\n",
              "    </tr>\n",
              "  </tbody>\n",
              "</table>\n",
              "</div>"
            ],
            "text/plain": [
              "                                              review  ...                                                vec\n",
              "0  reviewers mentioned watching 1 oz episode youl...  ...  [-0.08648403, 0.06491846, -0.06025309, -0.0454...\n",
              "1  wonderful little production filming technique ...  ...  [-0.03153765, 0.08566651, -0.041610494, 0.0076...\n",
              "2  thought wonderful way spend time hot summer we...  ...  [-0.016099233, 0.10197374, -0.028735312, -0.10...\n",
              "3  basically theres family little boy jake thinks...  ...  [-0.040155314, -0.019167345, -0.09651553, -0.0...\n",
              "4  petter matteis love time money visually stunni...  ...  [0.0045765135, 0.09241039, -0.108158626, -0.10...\n",
              "5  probably alltime favorite movie story selfless...  ...  [-0.08721831, 0.14089604, -0.052242003, -0.046...\n",
              "6  sure like resurrection dated seahunt series te...  ...  [-0.030027747, 0.10627971, -0.07668429, -0.087...\n",
              "7  amazing fresh innovative idea 70s aired 7 8 ye...  ...  [-0.06726362, 0.14709032, -0.036618788, -0.089...\n",
              "8  encouraged positive comments film looking forw...  ...  [-0.08907281, 0.06900939, -0.060642082, -0.102...\n",
              "9  like original gut wrenching laughter like movi...  ...  [-0.009328372, 0.10151131, -0.1637328, -0.0873...\n",
              "\n",
              "[10 rows x 3 columns]"
            ]
          },
          "metadata": {
            "tags": []
          },
          "execution_count": 19
        }
      ]
    },
    {
      "cell_type": "code",
      "metadata": {
        "colab": {
          "base_uri": "https://localhost:8080/"
        },
        "id": "Ni88K663qKY_",
        "outputId": "6a6c09a5-3008-46cc-fff9-9ad5326d432f"
      },
      "source": [
        "X = dataset_imbd['vec'].to_numpy()\n",
        "X = X.reshape(-1, 1)\n",
        "X = np.concatenate(np.concatenate(X, axis = 0), axis = 0).reshape(-1, 300)\n",
        "Y = dataset_imbd['sentiment']\n",
        "print(X.shape, Y.shape)"
      ],
      "execution_count": null,
      "outputs": [
        {
          "output_type": "stream",
          "text": [
            "(50000, 300) (50000,)\n"
          ],
          "name": "stdout"
        }
      ]
    },
    {
      "cell_type": "code",
      "metadata": {
        "id": "Zp-ZcbdoqKI1"
      },
      "source": [
        "#split the dataset \n",
        "from sklearn.model_selection import train_test_split\n",
        "X_train,X_test,Y_train,Y_test = train_test_split(X,Y,test_size = 0.3,random_state = 45, stratify = Y)"
      ],
      "execution_count": null,
      "outputs": []
    },
    {
      "cell_type": "code",
      "metadata": {
        "colab": {
          "base_uri": "https://localhost:8080/"
        },
        "id": "exC2JRN5934W",
        "outputId": "431614f2-38e2-4a1c-bf9c-aa221c3bebe6"
      },
      "source": [
        "X_train"
      ],
      "execution_count": null,
      "outputs": [
        {
          "output_type": "execute_result",
          "data": {
            "text/plain": [
              "array([[-0.00503179,  0.05165735, -0.00405053, ..., -0.01077633,\n",
              "         0.04364449,  0.07400434],\n",
              "       [-0.01619452,  0.04124891, -0.10208272, ..., -0.10940965,\n",
              "         0.00814665,  0.0257794 ],\n",
              "       [-0.03833186,  0.08911838, -0.0936385 , ...,  0.02506642,\n",
              "         0.04823593,  0.05245833],\n",
              "       ...,\n",
              "       [-0.05682486, -0.00705045, -0.04737088, ..., -0.17241804,\n",
              "         0.05473878,  0.1137126 ],\n",
              "       [ 0.01256995,  0.08299407,  0.03736777, ..., -0.02662358,\n",
              "        -0.07519144, -0.00937006],\n",
              "       [-0.02495763,  0.1223387 , -0.0619137 , ..., -0.00100804,\n",
              "         0.01360072,  0.05953594]], dtype=float32)"
            ]
          },
          "metadata": {
            "tags": []
          },
          "execution_count": 22
        }
      ]
    },
    {
      "cell_type": "code",
      "metadata": {
        "colab": {
          "base_uri": "https://localhost:8080/"
        },
        "id": "BzPxOX-x7NKI",
        "outputId": "ca07b8df-0bdf-4622-f7a0-3456ce44fedb"
      },
      "source": [
        "print(X_train.shape)\n",
        "print(Y_train.shape)\n",
        "print(X_test.shape)\n",
        "print(Y_test.shape)"
      ],
      "execution_count": null,
      "outputs": [
        {
          "output_type": "stream",
          "text": [
            "(35000, 300)\n",
            "(35000,)\n",
            "(15000, 300)\n",
            "(15000,)\n"
          ],
          "name": "stdout"
        }
      ]
    },
    {
      "cell_type": "code",
      "metadata": {
        "colab": {
          "base_uri": "https://localhost:8080/"
        },
        "id": "rEafWaiu7QQE",
        "outputId": "93159384-c598-4167-be5c-35bd4cd56c51"
      },
      "source": [
        "get_sentiments(Y_train, 'Train data')\n",
        "get_sentiments(Y_test, 'Test data')"
      ],
      "execution_count": null,
      "outputs": [
        {
          "output_type": "stream",
          "text": [
            "Sentiments in Train data:\n",
            " Positive: 17500\n",
            " Negative: 17500\n",
            "Sentiments in Test data:\n",
            " Positive: 7500\n",
            " Negative: 7500\n"
          ],
          "name": "stdout"
        }
      ]
    },
    {
      "cell_type": "markdown",
      "metadata": {
        "id": "NT0KMqyYBfqQ"
      },
      "source": [
        "##**1.Decision Tree**"
      ]
    },
    {
      "cell_type": "code",
      "metadata": {
        "id": "7XYfm8EjBg3L"
      },
      "source": [
        "import seaborn as sns\n",
        "import matplotlib.pyplot as plt\n",
        "import pandas as pd\n",
        "from sklearn.tree import DecisionTreeClassifier\n",
        "from sklearn.metrics import classification_report, confusion_matrix, accuracy_score\n",
        "classifier = DecisionTreeClassifier()\n",
        "classifier.fit(X_train, Y_train)\n",
        "y_pred = classifier.predict(X_test)"
      ],
      "execution_count": null,
      "outputs": []
    },
    {
      "cell_type": "code",
      "metadata": {
        "id": "UXyywg-8BrtS",
        "colab": {
          "base_uri": "https://localhost:8080/"
        },
        "outputId": "18d1c76c-5789-4aa8-8e5a-7033734e223c"
      },
      "source": [
        "print(accuracy_score(Y_test,y_pred))"
      ],
      "execution_count": null,
      "outputs": [
        {
          "output_type": "stream",
          "text": [
            "0.6904\n"
          ],
          "name": "stdout"
        }
      ]
    },
    {
      "cell_type": "code",
      "metadata": {
        "id": "tsXuR71dBzQp",
        "colab": {
          "base_uri": "https://localhost:8080/"
        },
        "outputId": "d33704b3-ed97-422c-8a7e-e4ab97bb2d73"
      },
      "source": [
        "print(\"Confusion Matrix\")\n",
        "matrix = confusion_matrix(Y_test,y_pred)\n",
        "print(confusion_matrix(Y_test,y_pred))"
      ],
      "execution_count": null,
      "outputs": [
        {
          "output_type": "stream",
          "text": [
            "Confusion Matrix\n",
            "[[5166 2334]\n",
            " [2310 5190]]\n"
          ],
          "name": "stdout"
        }
      ]
    },
    {
      "cell_type": "code",
      "metadata": {
        "id": "W3RiEQVgCGQl",
        "colab": {
          "base_uri": "https://localhost:8080/"
        },
        "outputId": "49195f63-d19e-4b5e-fb23-dac0988993b1"
      },
      "source": [
        "print(\"CLassification Report\")\n",
        "print(classification_report(Y_test, y_pred))"
      ],
      "execution_count": null,
      "outputs": [
        {
          "output_type": "stream",
          "text": [
            "CLassification Report\n",
            "              precision    recall  f1-score   support\n",
            "\n",
            "    negative       0.69      0.69      0.69      7500\n",
            "    positive       0.69      0.69      0.69      7500\n",
            "\n",
            "    accuracy                           0.69     15000\n",
            "   macro avg       0.69      0.69      0.69     15000\n",
            "weighted avg       0.69      0.69      0.69     15000\n",
            "\n"
          ],
          "name": "stdout"
        }
      ]
    },
    {
      "cell_type": "code",
      "metadata": {
        "id": "-G8WVuAUCLtA",
        "colab": {
          "base_uri": "https://localhost:8080/",
          "height": 282
        },
        "outputId": "96aecfca-0f32-4fb4-c5ce-d5e29720ff40"
      },
      "source": [
        "print(sns.heatmap(matrix/np.sum(matrix), annot=True,fmt='.2%'))"
      ],
      "execution_count": null,
      "outputs": [
        {
          "output_type": "stream",
          "text": [
            "AxesSubplot(0.125,0.125;0.62x0.755)\n"
          ],
          "name": "stdout"
        },
        {
          "output_type": "display_data",
          "data": {
            "image/png": "[encoded data removed]",
            "text/plain": [
              "<Figure size 432x288 with 2 Axes>"
            ]
          },
          "metadata": {
            "tags": [],
            "needs_background": "light"
          }
        }
      ]
    },
    {
      "cell_type": "markdown",
      "metadata": {
        "id": "D3zDuiNlGOAi"
      },
      "source": [
        "## **2.SVM**"
      ]
    },
    {
      "cell_type": "code",
      "metadata": {
        "id": "ZgjRE3A9GTv9"
      },
      "source": [
        "from sklearn.svm import SVC\n",
        "import numpy as np\n",
        "from sklearn.metrics import accuracy_score\n",
        "svmpolynomial = SVC(gamma = 0.1, kernel = 'poly', random_state = 45)\n",
        "svmpolynomial.fit(X_train,Y_train)\n",
        "labels_predict = svmpolynomial.predict(X_test)"
      ],
      "execution_count": null,
      "outputs": []
    },
    {
      "cell_type": "code",
      "metadata": {
        "id": "kX21F2GyGgNy",
        "colab": {
          "base_uri": "https://localhost:8080/"
        },
        "outputId": "de435b56-ac41-43e1-9c98-67f41de78682"
      },
      "source": [
        "print(accuracy_score(Y_test,labels_predict))"
      ],
      "execution_count": null,
      "outputs": [
        {
          "output_type": "stream",
          "text": [
            "0.844602\n"
          ],
          "name": "stdout"
        }
      ]
    },
    {
      "cell_type": "code",
      "metadata": {
        "id": "RI41TF5sGlPp"
      },
      "source": [
        "from sklearn.metrics import confusion_matrix\n",
        "from sklearn.metrics import classification_report"
      ],
      "execution_count": null,
      "outputs": []
    },
    {
      "cell_type": "code",
      "metadata": {
        "id": "alMPWijHGquv",
        "colab": {
          "base_uri": "https://localhost:8080/"
        },
        "outputId": "00897274-94dd-4ffa-d8f8-605dc55d070c"
      },
      "source": [
        "print(\"Confusion Matrix\")\n",
        "matrix = confusion_matrix(Y_test,labels_predict)\n",
        "print(confusion_matrix(Y_test,labels_predict))"
      ],
      "execution_count": null,
      "outputs": [
        {
          "output_type": "stream",
          "text": [
            "Confusion Matrix\n",
            "[[6314 1186]\n",
            " [1017 6483]]\n"
          ],
          "name": "stdout"
        }
      ]
    },
    {
      "cell_type": "code",
      "metadata": {
        "id": "xNOZIKaTGu9y",
        "colab": {
          "base_uri": "https://localhost:8080/"
        },
        "outputId": "5c3543f7-f683-4f49-c46b-fb361ff10e03"
      },
      "source": [
        "print(\"CLassification Report\")\n",
        "print(classification_report(Y_test, labels_predict))"
      ],
      "execution_count": null,
      "outputs": [
        {
          "output_type": "stream",
          "text": [
            "CLassification Report\n",
            "              precision    recall  f1-score   support\n",
            "\n",
            "    negative       0.86      0.84      0.85      7500\n",
            "    positive       0.85      0.86      0.85      7500\n",
            "\n",
            "    accuracy                           0.85     15000\n",
            "   macro avg       0.85      0.85      0.85     15000\n",
            "weighted avg       0.85      0.85      0.85     15000\n",
            "\n"
          ],
          "name": "stdout"
        }
      ]
    },
    {
      "cell_type": "code",
      "metadata": {
        "id": "8709EsdHGycd",
        "colab": {
          "base_uri": "https://localhost:8080/",
          "height": 282
        },
        "outputId": "fcb7a1ce-416d-4198-868f-2383601eec9c"
      },
      "source": [
        "print(sns.heatmap(matrix/np.sum(matrix), annot=True,fmt='.2%'))"
      ],
      "execution_count": null,
      "outputs": [
        {
          "output_type": "stream",
          "text": [
            "AxesSubplot(0.125,0.125;0.62x0.755)\n"
          ],
          "name": "stdout"
        },
        {
          "output_type": "display_data",
          "data": {
            "image/png": "[encoded data removed]",
            "text/plain": [
              "<Figure size 432x288 with 2 Axes>"
            ]
          },
          "metadata": {
            "tags": [],
            "needs_background": "light"
          }
        }
      ]
    },
    {
      "cell_type": "markdown",
      "metadata": {
        "id": "jrcWgAQQCSJW"
      },
      "source": [
        "## **3. Maximum Entorpy**"
      ]
    },
    {
      "cell_type": "code",
      "metadata": {
        "id": "K9mf-hs18yDe"
      },
      "source": [
        "from sklearn import linear_model\n",
        "from sklearn.metrics import classification_report, confusion_matrix, accuracy_score"
      ],
      "execution_count": null,
      "outputs": []
    },
    {
      "cell_type": "code",
      "metadata": {
        "colab": {
          "base_uri": "https://localhost:8080/"
        },
        "id": "lQgEgVU19hbo",
        "outputId": "25cddadc-8f31-4e1e-976d-809303e3010e"
      },
      "source": [
        "maxent = linear_model.LogisticRegression(penalty = 'l2', C=1.0, max_iter=800)\n",
        "maxent.fit(X_train, Y_train)"
      ],
      "execution_count": null,
      "outputs": [
        {
          "output_type": "execute_result",
          "data": {
            "text/plain": [
              "LogisticRegression(C=1.0, class_weight=None, dual=False, fit_intercept=True,\n",
              "                   intercept_scaling=1, l1_ratio=None, max_iter=800,\n",
              "                   multi_class='auto', n_jobs=None, penalty='l2',\n",
              "                   random_state=None, solver='lbfgs', tol=0.0001, verbose=0,\n",
              "                   warm_start=False)"
            ]
          },
          "metadata": {
            "tags": []
          },
          "execution_count": 38
        }
      ]
    },
    {
      "cell_type": "code",
      "metadata": {
        "colab": {
          "base_uri": "https://localhost:8080/"
        },
        "id": "qJUxz8H59hYP",
        "outputId": "7b3162fd-7768-420a-b121-db2cfbe4a6a9"
      },
      "source": [
        "y_pred = maxent.predict(X_test)\n",
        "print(\"Accuracy Score on Test\", accuracy_score(Y_test,y_pred))"
      ],
      "execution_count": null,
      "outputs": [
        {
          "output_type": "stream",
          "text": [
            "Accuracy Score on Test 0.8509333333333333\n"
          ],
          "name": "stdout"
        }
      ]
    },
    {
      "cell_type": "code",
      "metadata": {
        "colab": {
          "base_uri": "https://localhost:8080/"
        },
        "id": "qrObjJYq8xn6",
        "outputId": "66c1e058-f729-4797-8d98-7c32583d0b59"
      },
      "source": [
        "print(\"Confusion Matrix\")\n",
        "matrix = confusion_matrix(Y_test,y_pred)\n",
        "print(confusion_matrix(Y_test,y_pred))"
      ],
      "execution_count": null,
      "outputs": [
        {
          "output_type": "stream",
          "text": [
            "Confusion Matrix\n",
            "[[6362 1138]\n",
            " [1098 6402]]\n"
          ],
          "name": "stdout"
        }
      ]
    },
    {
      "cell_type": "code",
      "metadata": {
        "colab": {
          "base_uri": "https://localhost:8080/"
        },
        "id": "WkvjAiQN9vlJ",
        "outputId": "f4eab0b7-080e-48a9-ffee-45ae8d0bc5aa"
      },
      "source": [
        "print(\"CLassification Report\")\n",
        "print(classification_report(Y_test, y_pred))"
      ],
      "execution_count": null,
      "outputs": [
        {
          "output_type": "stream",
          "text": [
            "CLassification Report\n",
            "              precision    recall  f1-score   support\n",
            "\n",
            "    negative       0.85      0.85      0.85      7500\n",
            "    positive       0.85      0.85      0.85      7500\n",
            "\n",
            "    accuracy                           0.85     15000\n",
            "   macro avg       0.85      0.85      0.85     15000\n",
            "weighted avg       0.85      0.85      0.85     15000\n",
            "\n"
          ],
          "name": "stdout"
        }
      ]
    },
    {
      "cell_type": "code",
      "metadata": {
        "colab": {
          "base_uri": "https://localhost:8080/",
          "height": 282
        },
        "id": "2z-e9FMv9wKh",
        "outputId": "8f5c2a67-f71c-4156-d1c8-badb859eaf8f"
      },
      "source": [
        "print(sns.heatmap(matrix/np.sum(matrix), annot=True,fmt='.2%'))"
      ],
      "execution_count": null,
      "outputs": [
        {
          "output_type": "stream",
          "text": [
            "AxesSubplot(0.125,0.125;0.62x0.755)\n"
          ],
          "name": "stdout"
        },
        {
          "output_type": "display_data",
          "data": {
            "image/png": "[encoded data removed]",
            "text/plain": [
              "<Figure size 432x288 with 2 Axes>"
            ]
          },
          "metadata": {
            "tags": [],
            "needs_background": "light"
          }
        }
      ]
    },
    {
      "cell_type": "markdown",
      "metadata": {
        "id": "rWclTKPwg5-7"
      },
      "source": [
        "# **Convolutional Neural Network**"
      ]
    },
    {
      "cell_type": "code",
      "metadata": {
        "id": "v3nYN7aRrC7D"
      },
      "source": [
        "import numpy\n",
        "from keras.datasets import imdb\n",
        "from keras.models import Sequential\n",
        "from keras.layers import Dense\n",
        "from keras.layers import LSTM, Convolution1D, Flatten, Dropout\n",
        "from keras.layers.embeddings import Embedding\n",
        "from keras.preprocessing import sequence"
      ],
      "execution_count": null,
      "outputs": []
    },
    {
      "cell_type": "code",
      "metadata": {
        "id": "iLgJj8ENrC2q"
      },
      "source": [
        "# Using keras to load the dataset with the top_words\n",
        "top_words = 10000\n",
        "(X_train, y_train), (X_test, y_test) = imdb.load_data(num_words=top_words)"
      ],
      "execution_count": null,
      "outputs": []
    },
    {
      "cell_type": "code",
      "metadata": {
        "id": "6RXRiHPQrCzo"
      },
      "source": [
        "# Pad the sequence to the same length\n",
        "max_review_length = 1600\n",
        "X_train = sequence.pad_sequences(X_train, maxlen=max_review_length)\n",
        "X_test = sequence.pad_sequences(X_test, maxlen=max_review_length)"
      ],
      "execution_count": null,
      "outputs": []
    },
    {
      "cell_type": "code",
      "metadata": {
        "id": "JlviWlbwrCwa"
      },
      "source": [
        "# Using embedding from Keras\n",
        "embedding_vecor_length = 300\n",
        "model = Sequential()\n",
        "model.add(Embedding(top_words, embedding_vecor_length, input_length=max_review_length))\n",
        "\n",
        "# Convolutional model (3x conv, flatten, 2x dense)\n",
        "model.add(Convolution1D(64, 3, padding='same'))\n",
        "model.add(Convolution1D(32, 3, padding='same'))\n",
        "model.add(Convolution1D(16, 3, padding='same'))\n",
        "model.add(Flatten())\n",
        "model.add(Dropout(0.2))\n",
        "model.add(Dense(180,activation='sigmoid'))\n",
        "model.add(Dropout(0.2))\n",
        "model.add(Dense(1,activation='sigmoid'))"
      ],
      "execution_count": null,
      "outputs": []
    },
    {
      "cell_type": "code",
      "metadata": {
        "id": "Bk9yRnZzrTa3"
      },
      "source": [
        "model.compile(loss='binary_crossentropy', optimizer='adam', metrics=['accuracy'])"
      ],
      "execution_count": null,
      "outputs": []
    },
    {
      "cell_type": "code",
      "metadata": {
        "colab": {
          "base_uri": "https://localhost:8080/"
        },
        "id": "vF3vy66irVPA",
        "outputId": "b317ef31-2335-42f7-e4d3-34679154bb3b"
      },
      "source": [
        "model.fit(X_train, y_train, epochs=3, batch_size=64)"
      ],
      "execution_count": null,
      "outputs": [
        {
          "output_type": "stream",
          "text": [
            "Epoch 1/3\n",
            "391/391 [==============================] - 371s 945ms/step - loss: 0.5729 - accuracy: 0.7408\n",
            "Epoch 2/3\n",
            "391/391 [==============================] - 369s 944ms/step - loss: 0.1568 - accuracy: 0.9416\n",
            "Epoch 3/3\n",
            "391/391 [==============================] - 369s 945ms/step - loss: 0.0458 - accuracy: 0.9861\n"
          ],
          "name": "stdout"
        },
        {
          "output_type": "execute_result",
          "data": {
            "text/plain": [
              "<tensorflow.python.keras.callbacks.History at 0x7f6e5549ced0>"
            ]
          },
          "metadata": {
            "tags": []
          },
          "execution_count": 6
        }
      ]
    },
    {
      "cell_type": "code",
      "metadata": {
        "colab": {
          "base_uri": "https://localhost:8080/"
        },
        "id": "4bPUwKBeg5NN",
        "outputId": "313befa9-1689-4720-c09a-a9b1697cb364"
      },
      "source": [
        "scores = model.evaluate(X_test, y_test, verbose=0)\n",
        "print(\"Accuracy: %.2f%%\" % (scores[1]*100))"
      ],
      "execution_count": null,
      "outputs": [
        {
          "output_type": "stream",
          "text": [
            "Accuracy: 85.84%\n"
          ],
          "name": "stdout"
        }
      ]
    },
    {
      "cell_type": "markdown",
      "metadata": {
        "id": "HZ5JU85PMM2q"
      },
      "source": [
        "# **ACCURACY SUMMARY USING BAG OF WORDS**"
      ]
    },
    {
      "cell_type": "code",
      "metadata": {
        "colab": {
          "base_uri": "https://localhost:8080/",
          "height": 225
        },
        "id": "VLNahJlCMR7b",
        "outputId": "0861200a-fe4b-42ae-db56-cc8e650af64f"
      },
      "source": [
        "import pandas as pd\n",
        "data = {'MODEL':['MNB','GNB', 'DT', 'SVM', 'ME'  , 'CNN'],\n",
        "        'ACCURACY':[85.42,84.6, 73.40, 83.36, 88.46,86.19],\n",
        "        'Precision':[86,85.8,73,84,88,85],\n",
        "        'Recall':[86,85.8,73,84,88,85],\n",
        "        'F-Score':[86,85.6,73,84,88,85]}\n",
        "df = pd.DataFrame(data)\n",
        "df        "
      ],
      "execution_count": null,
      "outputs": [
        {
          "output_type": "execute_result",
          "data": {
            "text/html": [
              "<div>\n",
              "<style scoped>\n",
              "    .dataframe tbody tr th:only-of-type {\n",
              "        vertical-align: middle;\n",
              "    }\n",
              "\n",
              "    .dataframe tbody tr th {\n",
              "        vertical-align: top;\n",
              "    }\n",
              "\n",
              "    .dataframe thead th {\n",
              "        text-align: right;\n",
              "    }\n",
              "</style>\n",
              "<table border=\"1\" class=\"dataframe\">\n",
              "  <thead>\n",
              "    <tr style=\"text-align: right;\">\n",
              "      <th></th>\n",
              "      <th>MODEL</th>\n",
              "      <th>ACCURACY</th>\n",
              "      <th>Precision</th>\n",
              "      <th>Recall</th>\n",
              "      <th>F-Score</th>\n",
              "    </tr>\n",
              "  </thead>\n",
              "  <tbody>\n",
              "    <tr>\n",
              "      <th>0</th>\n",
              "      <td>MNB</td>\n",
              "      <td>85.42</td>\n",
              "      <td>86.0</td>\n",
              "      <td>86.0</td>\n",
              "      <td>86.0</td>\n",
              "    </tr>\n",
              "    <tr>\n",
              "      <th>1</th>\n",
              "      <td>GNB</td>\n",
              "      <td>84.60</td>\n",
              "      <td>85.8</td>\n",
              "      <td>85.8</td>\n",
              "      <td>85.6</td>\n",
              "    </tr>\n",
              "    <tr>\n",
              "      <th>2</th>\n",
              "      <td>DT</td>\n",
              "      <td>73.40</td>\n",
              "      <td>73.0</td>\n",
              "      <td>73.0</td>\n",
              "      <td>73.0</td>\n",
              "    </tr>\n",
              "    <tr>\n",
              "      <th>3</th>\n",
              "      <td>SVM</td>\n",
              "      <td>83.36</td>\n",
              "      <td>84.0</td>\n",
              "      <td>84.0</td>\n",
              "      <td>84.0</td>\n",
              "    </tr>\n",
              "    <tr>\n",
              "      <th>4</th>\n",
              "      <td>ME</td>\n",
              "      <td>88.46</td>\n",
              "      <td>88.0</td>\n",
              "      <td>88.0</td>\n",
              "      <td>88.0</td>\n",
              "    </tr>\n",
              "    <tr>\n",
              "      <th>5</th>\n",
              "      <td>CNN</td>\n",
              "      <td>86.19</td>\n",
              "      <td>85.0</td>\n",
              "      <td>85.0</td>\n",
              "      <td>85.0</td>\n",
              "    </tr>\n",
              "  </tbody>\n",
              "</table>\n",
              "</div>"
            ],
            "text/plain": [
              "  MODEL  ACCURACY  Precision  Recall  F-Score\n",
              "0   MNB     85.42       86.0    86.0     86.0\n",
              "1   GNB     84.60       85.8    85.8     85.6\n",
              "2    DT     73.40       73.0    73.0     73.0\n",
              "3   SVM     83.36       84.0    84.0     84.0\n",
              "4    ME     88.46       88.0    88.0     88.0\n",
              "5   CNN     86.19       85.0    85.0     85.0"
            ]
          },
          "metadata": {
            "tags": []
          },
          "execution_count": 45
        }
      ]
    },
    {
      "cell_type": "code",
      "metadata": {
        "colab": {
          "base_uri": "https://localhost:8080/",
          "height": 428
        },
        "id": "D4CFKkbWN2CM",
        "outputId": "5300d795-561a-44ac-d1f4-03369e356a8c"
      },
      "source": [
        "import pandas as pd\n",
        "from matplotlib import pyplot as plt \n",
        "name = df['MODEL']\n",
        "price = df['ACCURACY']\n",
        "fig = plt.figure(figsize =(10, 7))\n",
        "plt.bar(name[0:6], price[0:6])\n",
        "plt.show()"
      ],
      "execution_count": null,
      "outputs": [
        {
          "output_type": "display_data",
          "data": {
            "image/png": "[encoded data removed]",
            "text/plain": [
              "<Figure size 720x504 with 1 Axes>"
            ]
          },
          "metadata": {
            "tags": [],
            "needs_background": "light"
          }
        }
      ]
    },
    {
      "cell_type": "code",
      "metadata": {
        "colab": {
          "base_uri": "https://localhost:8080/",
          "height": 295
        },
        "id": "-REPaUxqOu8Y",
        "outputId": "aee0cc31-cb4b-42f1-967f-a851ef6daa8f"
      },
      "source": [
        "import matplotlib.pyplot as plt \n",
        "x = name\n",
        "y = price \n",
        "plt.plot(x, y) \n",
        "plt.xlabel('Model') \n",
        "plt.ylabel('Accuracies')\n",
        "plt.title('Accuracy Summary')\n",
        "plt.show() "
      ],
      "execution_count": null,
      "outputs": [
        {
          "output_type": "display_data",
          "data": {
            "image/png": "[encoded data removed]",
            "text/plain": [
              "<Figure size 432x288 with 1 Axes>"
            ]
          },
          "metadata": {
            "tags": [],
            "needs_background": "light"
          }
        }
      ]
    },
    {
      "cell_type": "code",
      "metadata": {
        "colab": {
          "base_uri": "https://localhost:8080/",
          "height": 248
        },
        "id": "V1IFCatFSg-7",
        "outputId": "479924c8-7c9c-4a85-8b1a-f858e36bb33a"
      },
      "source": [
        "import matplotlib.pyplot as plt\n",
        "import numpy as np\n",
        "fig = plt.figure()\n",
        "ax = fig.add_subplot(projection='3d')\n",
        "\n",
        "colors = ['c','r', 'g', 'b', 'm']\n",
        "yticks = [4,3, 2, 1, 0]\n",
        "for c, k in zip(colors, yticks):\n",
        "    # Generate the random data for the y=k 'layer'.\n",
        "    xs = name\n",
        "    ys = price\n",
        "    cs = [c] * len(xs)\n",
        "    cs[0] = 'c'\n",
        "    ax.bar(xs, ys, zs=k, zdir='y', color=cs, alpha=1.0)\n",
        "\n",
        "ax.set_xlabel('Model')\n",
        "ax.set_ylabel('Number of model')\n",
        "ax.set_zlabel('Accuracy')\n",
        "ax.set_yticks(yticks)\n",
        "\n",
        "plt.show()"
      ],
      "execution_count": null,
      "outputs": [
        {
          "output_type": "display_data",
          "data": {
            "image/png": "[encoded data removed]",
            "text/plain": [
              "<Figure size 432x288 with 1 Axes>"
            ]
          },
          "metadata": {
            "tags": [],
            "needs_background": "light"
          }
        }
      ]
    },
    {
      "cell_type": "markdown",
      "metadata": {
        "id": "gSWV476LjREu"
      },
      "source": [
        "# **Accuracy Summary using WORD2VEC**"
      ]
    },
    {
      "cell_type": "code",
      "metadata": {
        "colab": {
          "base_uri": "https://localhost:8080/",
          "height": 166
        },
        "id": "7Ls3MxarjWwB",
        "outputId": "d1df3262-0a4c-43f3-da8d-463fc5fab5b5"
      },
      "source": [
        "import pandas as pd\n",
        "data = {'MODEL':[ 'DT', 'SVM', 'ME'  , 'CNN'],\n",
        "        'ACCURACY':[69.04,84.6, 85.46,86.19],\n",
        "        'Precision':[69.04,84.6, 85.46,85],\n",
        "        'Recall':[69.04,84.6, 85.46,85],\n",
        "        'F-Score':[69.04,84.6, 85.46,85]}\n",
        "df = pd.DataFrame(data)\n",
        "df        "
      ],
      "execution_count": null,
      "outputs": [
        {
          "output_type": "execute_result",
          "data": {
            "text/html": [
              "<div>\n",
              "<style scoped>\n",
              "    .dataframe tbody tr th:only-of-type {\n",
              "        vertical-align: middle;\n",
              "    }\n",
              "\n",
              "    .dataframe tbody tr th {\n",
              "        vertical-align: top;\n",
              "    }\n",
              "\n",
              "    .dataframe thead th {\n",
              "        text-align: right;\n",
              "    }\n",
              "</style>\n",
              "<table border=\"1\" class=\"dataframe\">\n",
              "  <thead>\n",
              "    <tr style=\"text-align: right;\">\n",
              "      <th></th>\n",
              "      <th>MODEL</th>\n",
              "      <th>ACCURACY</th>\n",
              "      <th>Precision</th>\n",
              "      <th>Recall</th>\n",
              "      <th>F-Score</th>\n",
              "    </tr>\n",
              "  </thead>\n",
              "  <tbody>\n",
              "    <tr>\n",
              "      <th>0</th>\n",
              "      <td>DT</td>\n",
              "      <td>69.04</td>\n",
              "      <td>69.04</td>\n",
              "      <td>69.04</td>\n",
              "      <td>69.04</td>\n",
              "    </tr>\n",
              "    <tr>\n",
              "      <th>1</th>\n",
              "      <td>SVM</td>\n",
              "      <td>84.60</td>\n",
              "      <td>84.60</td>\n",
              "      <td>84.60</td>\n",
              "      <td>84.60</td>\n",
              "    </tr>\n",
              "    <tr>\n",
              "      <th>2</th>\n",
              "      <td>ME</td>\n",
              "      <td>85.46</td>\n",
              "      <td>85.46</td>\n",
              "      <td>85.46</td>\n",
              "      <td>85.46</td>\n",
              "    </tr>\n",
              "    <tr>\n",
              "      <th>3</th>\n",
              "      <td>CNN</td>\n",
              "      <td>86.19</td>\n",
              "      <td>85.00</td>\n",
              "      <td>85.00</td>\n",
              "      <td>85.00</td>\n",
              "    </tr>\n",
              "  </tbody>\n",
              "</table>\n",
              "</div>"
            ],
            "text/plain": [
              "  MODEL  ACCURACY  Precision  Recall  F-Score\n",
              "0    DT     69.04      69.04   69.04    69.04\n",
              "1   SVM     84.60      84.60   84.60    84.60\n",
              "2    ME     85.46      85.46   85.46    85.46\n",
              "3   CNN     86.19      85.00   85.00    85.00"
            ]
          },
          "metadata": {
            "tags": []
          },
          "execution_count": 48
        }
      ]
    },
    {
      "cell_type": "code",
      "metadata": {
        "colab": {
          "base_uri": "https://localhost:8080/",
          "height": 428
        },
        "id": "dssAn71PjkK5",
        "outputId": "99fb3462-aebb-484d-b235-ca038bc740b4"
      },
      "source": [
        "import pandas as pd\n",
        "from matplotlib import pyplot as plt \n",
        "name = df['MODEL']\n",
        "price = df['ACCURACY IN PERCENTAGE']\n",
        "fig = plt.figure(figsize =(10, 7))\n",
        "plt.bar(name[0:5], price[0:5])\n",
        "plt.show()"
      ],
      "execution_count": null,
      "outputs": [
        {
          "output_type": "display_data",
          "data": {
            "image/png": "[encoded data removed]",
            "text/plain": [
              "<Figure size 720x504 with 1 Axes>"
            ]
          },
          "metadata": {
            "tags": [],
            "needs_background": "light"
          }
        }
      ]
    },
    {
      "cell_type": "code",
      "metadata": {
        "colab": {
          "base_uri": "https://localhost:8080/",
          "height": 295
        },
        "id": "3LD0EHz7jpRG",
        "outputId": "1ac3d82a-6536-41d4-9d9c-fee1cda2565c"
      },
      "source": [
        "import matplotlib.pyplot as plt \n",
        "x = name\n",
        "y = price \n",
        "plt.plot(x, y) \n",
        "plt.xlabel('Model') \n",
        "plt.ylabel('Accuracies')\n",
        "plt.title('Accuracy Summary')\n",
        "plt.show() "
      ],
      "execution_count": null,
      "outputs": [
        {
          "output_type": "display_data",
          "data": {
            "image/png": "[encoded data removed]",
            "text/plain": [
              "<Figure size 432x288 with 1 Axes>"
            ]
          },
          "metadata": {
            "tags": [],
            "needs_background": "light"
          }
        }
      ]
    },
    {
      "cell_type": "code",
      "metadata": {
        "colab": {
          "base_uri": "https://localhost:8080/",
          "height": 248
        },
        "id": "SY6QAcsfjs8v",
        "outputId": "f55b12ee-abb3-40a1-fd4c-ed186cba0c8f"
      },
      "source": [
        "import matplotlib.pyplot as plt\n",
        "import numpy as np\n",
        "fig = plt.figure()\n",
        "ax = fig.add_subplot(projection='3d')\n",
        "\n",
        "colors = ['r', 'g', 'b', 'm']\n",
        "yticks = [3, 2, 1, 0]\n",
        "for c, k in zip(colors, yticks):\n",
        "    # Generate the random data for the y=k 'layer'.\n",
        "    xs = name\n",
        "    ys = price\n",
        "    cs = [c] * len(xs)\n",
        "    cs[0] = 'c'\n",
        "    ax.bar(xs, ys, zs=k, zdir='y', color=cs, alpha=1.0)\n",
        "\n",
        "ax.set_xlabel('Model')\n",
        "ax.set_ylabel('Number of model')\n",
        "ax.set_zlabel('Accuracy')\n",
        "ax.set_yticks(yticks)\n",
        "\n",
        "plt.show()"
      ],
      "execution_count": null,
      "outputs": [
        {
          "output_type": "display_data",
          "data": {
            "image/png": "[encoded data removed]",
            "text/plain": [
              "<Figure size 432x288 with 1 Axes>"
            ]
          },
          "metadata": {
            "tags": [],
            "needs_background": "light"
          }
        }
      ]
    }
  ]
}